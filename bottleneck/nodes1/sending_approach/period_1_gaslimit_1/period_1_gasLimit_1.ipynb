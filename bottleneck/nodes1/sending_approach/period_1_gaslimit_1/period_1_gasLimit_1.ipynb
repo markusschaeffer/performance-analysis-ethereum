{
 "cells": [
  {
   "cell_type": "markdown",
   "metadata": {},
   "source": [
    "# Helper Methods"
   ]
  },
  {
   "cell_type": "code",
   "execution_count": 1,
   "metadata": {},
   "outputs": [],
   "source": [
    "import numpy as np\n",
    "\n",
    "color_latency=\"#ff7f0e\"\n",
    "color_tps=\"#1f77b4\"\n",
    "\n",
    "# outlier removal method: IQR\n",
    "# returns list without outliers\n",
    "# http://colingorrie.github.io/outlier-detection.html\n",
    "# https://machinelearningmastery.com/how-to-use-statistics-to-identify-outliers-in-data/\n",
    "def remove_outliers_iqr(data):\n",
    "    quartile_1, quartile_3 = np.percentile(data, [25, 75])\n",
    "    iqr = quartile_3 - quartile_1\n",
    "    cut_off = (iqr * 1.5)\n",
    "    lower_bound = quartile_1 - cut_off\n",
    "    upper_bound = quartile_3 + cut_off\n",
    "    # identify outliers\n",
    "    outliers = [x for x in data if x < lower_bound or x > upper_bound]\n",
    "    print('Identified outliers: %d' % len(outliers))\n",
    "    # remove outliers\n",
    "    outliers_removed = [x for x in data if x >= lower_bound and x <= upper_bound]\n",
    "    print('Non-outlier observations: %d' % len(outliers_removed))\n",
    "    return outliers_removed\n",
    "\n",
    "# annotates plt with y values\n",
    "def plot_annotate(plt,xvalues,yvalues):\n",
    "    for i,j in zip(xvalues, yvalues):\n",
    "        plt.annotate(str(np.round(j,1)),xy=(i-0.15,j))\n",
    "    \n",
    "def autolabel_barchart(rects,axis):\n",
    "    \"\"\"\n",
    "    Attach a text label above each bar displaying its height\n",
    "    \"\"\"\n",
    "    for rect in rects:\n",
    "        height = rect.get_height()\n",
    "        axis.text(rect.get_x() + rect.get_width()/2., 0.90*height,'%.1f' % round(float(height),1),ha='center', va='bottom')"
   ]
  },
  {
   "cell_type": "markdown",
   "metadata": {},
   "source": [
    "# PyMongo Query\n",
    "\n",
    "db = \"test\"\n",
    "collection = \"benchmarklogs\""
   ]
  },
  {
   "cell_type": "code",
   "execution_count": 2,
   "metadata": {},
   "outputs": [],
   "source": [
    "from pymongo import MongoClient\n",
    "client = MongoClient()\n",
    "\n",
    "db = client['test']\n",
    "collection = db['benchmarklogs']"
   ]
  },
  {
   "cell_type": "markdown",
   "metadata": {},
   "source": [
    "# PyMongo Query ->Pandas DataFrame"
   ]
  },
  {
   "cell_type": "code",
   "execution_count": 3,
   "metadata": {},
   "outputs": [
    {
     "name": "stdout",
     "output_type": "stream",
     "text": [
      "Number of rows:200\n"
     ]
    }
   ],
   "source": [
    "import numpy as np\n",
    "import pandas as pd\n",
    "\n",
    "query = {\"$and\":[{\"$or\":[{\"approach\":1},{\"approach\":3}]},{\"usedGenesisJson\":\"genesis_poa_period_1_gasLimit_1.json\"},{\"instanceType\":\"c5.4xlarge\"}, {\"nodes\":1},{\"maxTransactions\": 1000}, {\"scenario\":\"account\"}]}\n",
    "\n",
    "# Make a query to the specific DB and Collection\n",
    "cursor = collection.find(query)\n",
    "\n",
    "# Expand the cursor and construct the DataFrame\n",
    "df = pd.DataFrame(list(cursor))\n",
    "\n",
    "sample_size = len(df.index)\n",
    "print(\"Number of rows:\" + str(sample_size))"
   ]
  },
  {
   "cell_type": "markdown",
   "metadata": {},
   "source": [
    "# Pandas DataFrame -> Plot\n",
    "## Throughput and Latency"
   ]
  },
  {
   "cell_type": "code",
   "execution_count": 4,
   "metadata": {},
   "outputs": [
    {
     "name": "stdout",
     "output_type": "stream",
     "text": [
      "Identified outliers: 10\n",
      "Non-outlier observations: 90\n",
      "Identified outliers: 1\n",
      "Non-outlier observations: 99\n",
      "Identified outliers: 18\n",
      "Non-outlier observations: 82\n",
      "Identified outliers: 3\n",
      "Non-outlier observations: 97\n",
      "TPS approach 1 mean: 102.08220843066059\n",
      "TPS approach 1 median: 100.09048215651981\n",
      "Latency approach 1 mean: 6.230857975609757\n",
      "Latency approach 1 median: 6.3371935\n",
      "\n",
      "\n",
      "TPS approach 3 mean: 107.99714371267706\n",
      "TPS approach 3 median: 110.01100110011001\n",
      "Latency approach 3 mean: 5.540362835051545\n",
      "Latency approach 3 median: 5.004980000000001\n",
      "\n",
      "\n"
     ]
    }
   ],
   "source": [
    "import matplotlib.pyplot as plt\n",
    "\n",
    "data_tps = df[['txPerSecond','approach']]\n",
    "data_latency = df[['averageDelay','approach']]\n",
    "\n",
    "title_tps = \"Throughput against Transaction Sending Approach \\n (1 Node, PoA, Period 1 sec, Default GasLimit, n=\" + str(sample_size) + \")\"\n",
    "title_latency = \"Latency against Transaction Sending Approach \\n (1 Node, PoA, PoA Period 1 sec, Default GasLimit, n=\" + str(sample_size) + \")\"\n",
    "\n",
    "ylabel_tps = \"Transactions Per Second (TPS)\"\n",
    "ylabel_latency = \"Transaction Latency [seconds]\"\n",
    "\n",
    "#objects = list(['TPS', 'Latency'])\n",
    "\n",
    "data1_tps = data_tps.loc[df['approach'] == 1].iloc[:,0]\n",
    "data3_tps = data_tps.loc[df['approach'] == 3].iloc[:,0]\n",
    "\n",
    "data1_latency = data_latency.loc[df['approach'] == 1].iloc[:,0]\n",
    "data3_latency = data_latency.loc[df['approach'] == 3].iloc[:,0]\n",
    "\n",
    "#REMOVE OUTLIERS\n",
    "data1_tps=pd.Series(remove_outliers_iqr(data1_tps))\n",
    "data3_tps=pd.Series(remove_outliers_iqr(data3_tps))\n",
    "data1_latency=pd.Series(remove_outliers_iqr(data1_latency))\n",
    "data3_latency=pd.Series(remove_outliers_iqr(data3_latency))\n",
    "\n",
    "data_tps = [data1_tps, data3_tps]\n",
    "data_latency = [data1_latency, data3_latency]\n",
    "\n",
    "print(\"TPS approach 1 mean: \" + str(data1_tps.mean()))\n",
    "print(\"TPS approach 1 median: \" + str(data1_tps.median()))\n",
    "print(\"Latency approach 1 mean: \" + str(data1_latency.mean()))\n",
    "print(\"Latency approach 1 median: \" + str(data1_latency.median()))\n",
    "print(\"\\n\")\n",
    "print(\"TPS approach 3 mean: \" + str(data3_tps.mean()))\n",
    "print(\"TPS approach 3 median: \" + str(data3_tps.median()))\n",
    "print(\"Latency approach 3 mean: \" + str(data3_latency.mean()))\n",
    "print(\"Latency approach 3 median: \" + str(data3_latency.median()))\n",
    "print(\"\\n\")"
   ]
  },
  {
   "cell_type": "code",
   "execution_count": 5,
   "metadata": {},
   "outputs": [
    {
     "data": {
      "image/png": "[encoded data removed]",
      "text/plain": [
       "<Figure size 432x288 with 2 Axes>"
      ]
     },
     "metadata": {
      "needs_background": "light"
     },
     "output_type": "display_data"
    }
   ],
   "source": [
    "fig = plt.figure()\n",
    "\n",
    "## the data\n",
    "N = 2\n",
    "## necessary variables\n",
    "ind = np.arange(N)\n",
    "#print(ind)\n",
    "# Create an axes instance\n",
    "ax1 = fig.add_subplot(111)\n",
    "\n",
    "ax1.set_title(\"Transaction Sending Approach Analysis\\n(1 Node, PoA, period 1 sec, gasLimit * 1, c5.4xlarge, n=\" + str(sample_size) + \")\")\n",
    "#ax1.set_xlabel(xlabel)\n",
    "ax1.set_ylabel(\"Average Transactions per Second (TPS)\")\n",
    "\n",
    "# Create the boxplot\n",
    "bp = ax1.boxplot(data_tps,labels=[\"Approach 1\",\"Approach 2\"], positions=ind+0.1, patch_artist=True, manage_xticks=True)\n",
    "\n",
    "ax2 = ax1.twinx()\n",
    "bp2 = ax2.boxplot(data_latency,labels=[\"Approach 1\",\"Approach 2\"], positions=ind+0.3, patch_artist=True, manage_xticks=True)\n",
    "#ax1.set_xticks(ind + 0.5/2)\n",
    "ax2.set_ylabel(\"Average Transaction Latency [seconds]\")\n",
    "ax1.set_xticklabels(('Approach 1\\n(default)', 'Approach 2\\n(delayed)'))\n",
    "\n",
    "#ax1.set_ylim(bottom=9.5, top=11.5)\n",
    "#ax2.set_ylim(bottom=45, top=57)\n",
    "\n",
    "## change outline color, fill color and linewidth of the boxes\n",
    "for box in bp['boxes']:\n",
    "    # change outline color\n",
    "    box.set( color=color_tps, linewidth=2)\n",
    "    # change fill color\n",
    "    box.set( facecolor = 'w' )\n",
    "    \n",
    "## change color and linewidth of the medians\n",
    "for median in bp['medians']:\n",
    "    median.set(color=\"k\", linewidth=2) \n",
    "    \n",
    "## change outline color, fill color and linewidth of the boxes\n",
    "for box in bp2['boxes']:\n",
    "    # change outline color\n",
    "    box.set( color=color_latency, linewidth=2)\n",
    "    # change fill color\n",
    "    box.set( facecolor = 'w' )\n",
    "    \n",
    "## change color and linewidth of the medians\n",
    "for median in bp2['medians']:\n",
    "    median.set(color=\"k\", linewidth=2) \n",
    "\n",
    "plt.figtext(0.3575, 0.6,  'TPS', color='black')\n",
    "plt.figtext(0.3575, 0.55, 'Med:' + str(round(data1_tps.median(),2)), color='black')\n",
    "plt.figtext(0.3575, 0.5, 'Mean:' + str(round(data1_tps.mean(),2)), color='black')\n",
    "plt.figtext(0.3575, 0.4,  'Latency', color='black')\n",
    "plt.figtext(0.3575, 0.35, 'Med:' + str(round(data1_latency.median(),2)), color='black')\n",
    "plt.figtext(0.3575, 0.3,  'Mean:' + str(round(data1_latency.mean(),2)), color='black')\n",
    "\n",
    "plt.figtext(0.75, 0.6,  'TPS', color='black')\n",
    "plt.figtext(0.75, 0.55, 'Med:' + str(round(data3_tps.median(),2)), color='black')\n",
    "plt.figtext(0.75, 0.5, 'Mean:' + str(round(data3_tps.mean(),2)), color='black')\n",
    "plt.figtext(0.75, 0.4,  'Latency', color='black')\n",
    "plt.figtext(0.75, 0.35, 'Med:' + str(round(data3_latency.median(),2)), color='black')\n",
    "plt.figtext(0.75, 0.3,  'Mean:' + str(round(data3_latency.mean(),2)), color='black')\n",
    "\n",
    "fig.savefig(\"result_bottleneck_transaction_sending_approach.svg\", format=\"svg\")"
   ]
  },
  {
   "cell_type": "code",
   "execution_count": 6,
   "metadata": {},
   "outputs": [
    {
     "name": "stdout",
     "output_type": "stream",
     "text": [
      "p = 0.0200109\n",
      "H0 rejected = x DOES NOT COME from a normal distribution\n"
     ]
    }
   ],
   "source": [
    "#https://docs.scipy.org/doc/scipy/reference/generated/scipy.stats.ttest_ind.html\n",
    "\n",
    "from scipy import stats\n",
    "\n",
    "k2, p = stats.normaltest(data1_tps)\n",
    "alpha = 0.05\n",
    "#H0 = data comes from a normal distribution\n",
    "#if p values is less than alpha it is unlikely that the data comes from a normal distribution\n",
    "print(\"p = {:g}\".format(p))\n",
    "if p < alpha:\n",
    "    print(\"H0 rejected = x DOES NOT COME from a normal distribution\")\n",
    "else:\n",
    "    print(\"H0 valid = x COMES from a normal distribution\")\n",
    "    "
   ]
  },
  {
   "cell_type": "code",
   "execution_count": 7,
   "metadata": {},
   "outputs": [
    {
     "name": "stdout",
     "output_type": "stream",
     "text": [
      "p = 0.000592319\n",
      "H0 is rejected = there IS a significant difference\n"
     ]
    }
   ],
   "source": [
    "t,p = stats.ttest_ind(data1_tps,data3_tps,equal_var=False)\n",
    "\n",
    "print(\"p = {:g}\".format(p))\n",
    "if(p<alpha):\n",
    "    print(\"H0 is rejected = there IS a significant difference\")\n",
    "else:\n",
    "    print(\"H0 valid = there is NO significant difference\")\n"
   ]
  }
 ],
 "metadata": {
  "kernelspec": {
   "display_name": "Python 3",
   "language": "python",
   "name": "python3"
  },
  "language_info": {
   "codemirror_mode": {
    "name": "ipython",
    "version": 3
   },
   "file_extension": ".py",
   "mimetype": "text/x-python",
   "name": "python",
   "nbconvert_exporter": "python",
   "pygments_lexer": "ipython3",
   "version": "3.7.0"
  }
 },
 "nbformat": 4,
 "nbformat_minor": 2
}
