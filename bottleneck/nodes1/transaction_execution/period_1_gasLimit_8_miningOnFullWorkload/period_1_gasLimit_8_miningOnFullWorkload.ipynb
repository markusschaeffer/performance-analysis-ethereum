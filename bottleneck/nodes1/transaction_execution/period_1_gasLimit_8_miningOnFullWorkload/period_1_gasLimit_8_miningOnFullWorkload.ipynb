{
 "cells": [
  {
   "cell_type": "markdown",
   "metadata": {},
   "source": [
    "# Helper Methods"
   ]
  },
  {
   "cell_type": "code",
   "execution_count": 1,
   "metadata": {},
   "outputs": [],
   "source": [
    "import numpy as np\n",
    "\n",
    "color_latency=\"#ff7f0e\"\n",
    "color_tps=\"#1f77b4\"\n",
    "color_runtime=\"#8c564b\"\n",
    "\n",
    "# outlier removal method: IQR\n",
    "# returns list without outliers\n",
    "# http://colingorrie.github.io/outlier-detection.html\n",
    "# https://machinelearningmastery.com/how-to-use-statistics-to-identify-outliers-in-data/\n",
    "def remove_outliers_iqr(data):\n",
    "    quartile_1, quartile_3 = np.percentile(data, [25, 75])\n",
    "    iqr = quartile_3 - quartile_1\n",
    "    cut_off = (iqr * 1.5)\n",
    "    lower_bound = quartile_1 - cut_off\n",
    "    upper_bound = quartile_3 + cut_off\n",
    "    # identify outliers\n",
    "    outliers = [x for x in data if x < lower_bound or x > upper_bound]\n",
    "    print('Identified outliers: %d' % len(outliers))\n",
    "    # remove outliers\n",
    "    outliers_removed = [x for x in data if x >= lower_bound and x <= upper_bound]\n",
    "    print('Non-outlier observations: %d' % len(outliers_removed))\n",
    "    return outliers_removed\n",
    "\n",
    "# annotates plt with y values\n",
    "def plot_annotate(plt,xvalues,yvalues):\n",
    "    for i,j in zip(xvalues, yvalues):\n",
    "        plt.annotate(str(np.round(j,1)),xy=(i-0.15,j))\n",
    "    \n",
    "def autolabel_barchart(rects,axis):\n",
    "    \"\"\"\n",
    "    Attach a text label above each bar displaying its height\n",
    "    \"\"\"\n",
    "    for rect in rects:\n",
    "        height = rect.get_height()\n",
    "        axis.text(rect.get_x() + rect.get_width()/2., 0.90*height,'%.1f' % round(float(height),1),ha='center', va='bottom')"
   ]
  },
  {
   "cell_type": "markdown",
   "metadata": {},
   "source": [
    "# PyMongo Query\n",
    "\n",
    "db = \"test\"\n",
    "collection = \"benchmarklogs\""
   ]
  },
  {
   "cell_type": "code",
   "execution_count": 2,
   "metadata": {},
   "outputs": [],
   "source": [
    "from pymongo import MongoClient\n",
    "client = MongoClient()\n",
    "\n",
    "db = client['test']\n",
    "collection = db['benchmarklogs']"
   ]
  },
  {
   "cell_type": "markdown",
   "metadata": {},
   "source": [
    "# PyMongo Query ->Pandas DataFrame"
   ]
  },
  {
   "cell_type": "code",
   "execution_count": 3,
   "metadata": {},
   "outputs": [
    {
     "name": "stdout",
     "output_type": "stream",
     "text": [
      "Number of rows:300\n"
     ]
    }
   ],
   "source": [
    "import numpy as np\n",
    "import pandas as pd\n",
    "\n",
    "query = {\"$and\":[{\"$or\":[{\"miningOnFullWorkload\":False}, {\"miningOnFullWorkload\":True}]},{\"approach\":3}, {\"instanceType\":\"c5.4xlarge\"}, {\"nodes\":1}, {\"usedGenesisJson\":\"genesis_poa_max_performance.json\"}, {\"maxTransactions\": 1000}, {\"docker\":False}, {\"scenario\":\"account\"}]}\n",
    "\n",
    "# Make a query to the specific DB and Collection\n",
    "cursor = collection.find(query)\n",
    "\n",
    "# Expand the cursor and construct the DataFrame\n",
    "df = pd.DataFrame(list(cursor))\n",
    "\n",
    "sample_size = len(df.index)\n",
    "print(\"Number of rows:\" + str(sample_size))"
   ]
  },
  {
   "cell_type": "markdown",
   "metadata": {},
   "source": [
    "# Pandas DataFrame -> Plot\n",
    "## Throughput and Latency"
   ]
  },
  {
   "cell_type": "code",
   "execution_count": 4,
   "metadata": {},
   "outputs": [
    {
     "name": "stdout",
     "output_type": "stream",
     "text": [
      "Identified outliers: 4\n",
      "Non-outlier observations: 96\n",
      "Identified outliers: 0\n",
      "Non-outlier observations: 200\n",
      "Identified outliers: 18\n",
      "Non-outlier observations: 82\n",
      "Identified outliers: 3\n",
      "Non-outlier observations: 197\n",
      "TPS miningOnFullWorkload False mean: 327.6997960620029\n",
      "TPS miningOnFullWorkload False median: 328.0839895013123\n",
      "Latency miningOnFullWorkload False mean: 2.1007638414634138\n",
      "Latency miningOnFullWorkload False median: 2.107185999999996\n",
      "\n",
      "\n",
      "TPS miningOnFullWorkload True mean: 772.1978837982033\n",
      "TPS miningOnFullWorkload True median: 702.7410357306532\n",
      "Latency miningOnFullWorkload True mean: 0.96322761928934\n",
      "Latency miningOnFullWorkload True median: 0.8402009999999996\n",
      "\n",
      "\n"
     ]
    }
   ],
   "source": [
    "import matplotlib.pyplot as plt\n",
    "\n",
    "data_tps = df[['txPerSecond','miningOnFullWorkload']]\n",
    "data_latency = df[['averageDelay','miningOnFullWorkload']]\n",
    "data_runtime = df[['runtime','miningOnFullWorkload']]\n",
    "\n",
    "title_tps = \"Throughput against Mining/Sealing Approach \\n (1 Node, PoA, Period 1 sec, max GasLimit, n=\" + str(sample_size) + \")\"\n",
    "title_latency = \"Latency against Mining/Sealing Approach \\n (1 Node, PoA, Period 1 sec, max GasLimit n=\" + str(sample_size) + \")\"\n",
    "\n",
    "ylabel_tps = \"Transactions Per Second (TPS)\"\n",
    "ylabel_latency = \"Transaction Latency [seconds]\"\n",
    "\n",
    "#objects = list(['TPS', 'Latency'])\n",
    "\n",
    "dataFalse_tps = data_tps.loc[df['miningOnFullWorkload'] == False].iloc[:,0]\n",
    "dataTrue_tps = data_tps.loc[df['miningOnFullWorkload'] == True].iloc[:,0]\n",
    "\n",
    "dataFalse_latency = data_latency.loc[df['miningOnFullWorkload'] == False].iloc[:,0]\n",
    "dataTrue_latency = data_latency.loc[df['miningOnFullWorkload'] == True].iloc[:,0]\n",
    "\n",
    "# REMOVE OUTLIERS\n",
    "dataFalse_tps = pd.Series(remove_outliers_iqr(dataFalse_tps))\n",
    "dataTrue_tps = pd.Series(remove_outliers_iqr(dataTrue_tps))\n",
    "dataFalse_latency = pd.Series(remove_outliers_iqr(dataFalse_latency))\n",
    "dataTrue_latency = pd.Series(remove_outliers_iqr(dataTrue_latency))\n",
    "\n",
    "data_tps = [dataFalse_tps, dataTrue_tps]\n",
    "data_latency = [dataFalse_latency, dataTrue_latency]\n",
    "\n",
    "print(\"TPS miningOnFullWorkload False mean: \" + str(dataFalse_tps.mean()))\n",
    "print(\"TPS miningOnFullWorkload False median: \" + str(dataFalse_tps.median()))\n",
    "print(\"Latency miningOnFullWorkload False mean: \" + str(dataFalse_latency.mean()))\n",
    "print(\"Latency miningOnFullWorkload False median: \" + str(dataFalse_latency.median()))\n",
    "print(\"\\n\")\n",
    "print(\"TPS miningOnFullWorkload True mean: \" + str(dataTrue_tps.mean()))\n",
    "print(\"TPS miningOnFullWorkload True median: \" + str(dataTrue_tps.median()))\n",
    "print(\"Latency miningOnFullWorkload True mean: \" + str(dataTrue_latency.mean()))\n",
    "print(\"Latency miningOnFullWorkload True median: \" + str(dataTrue_latency.median()))\n",
    "print(\"\\n\")"
   ]
  },
  {
   "cell_type": "code",
   "execution_count": 5,
   "metadata": {},
   "outputs": [
    {
     "data": {
      "image/png": "[encoded data removed]",
      "text/plain": [
       "<Figure size 432x288 with 2 Axes>"
      ]
     },
     "metadata": {
      "needs_background": "light"
     },
     "output_type": "display_data"
    }
   ],
   "source": [
    "fig = plt.figure()\n",
    "\n",
    "## the data\n",
    "N = 2\n",
    "## necessary variables\n",
    "ind = np.arange(N)\n",
    "#print(ind)\n",
    "# Create an axes instance\n",
    "ax1 = fig.add_subplot(111)\n",
    "\n",
    "ax1.set_title(\"Full Measurement vs. Transaction Execution\\n (1 Node, PoA, period 1 sec, gasLimit * 8, c5.4xlarge, n=\" + str(sample_size) + \")\")\n",
    "#ax1.set_xlabel(xlabel)\n",
    "ax1.set_ylabel(\"Average Transactions per Second (TPS)\")\n",
    "\n",
    "# Create the boxplot\n",
    "bp = ax1.boxplot(data_tps,labels=[\"Standard mining/sealing\",\"Mining/Sealing on full workload\"], positions=ind+0.1, patch_artist=True, manage_xticks=True)\n",
    "\n",
    "ax2 = ax1.twinx()\n",
    "bp2 = ax2.boxplot(data_latency,labels=[\"Standard mining/sealing\",\"Mining/Sealing on full workload\"], positions=ind+0.3, patch_artist=True, manage_xticks=True)\n",
    "#ax1.set_xticks(ind + 0.5/2)\n",
    "ax2.set_ylabel(\"Average Transaction Latency [seconds]\")\n",
    "ax1.set_xticklabels(('Full Measurement', 'Transaction Execution'))\n",
    "\n",
    "#ax1.set_ylim(bottom=9.5, top=11.5)\n",
    "#ax2.set_ylim(bottom=45, top=57)\n",
    "\n",
    "## change outline color, fill color and linewidth of the boxes\n",
    "for box in bp['boxes']:\n",
    "    # change outline color\n",
    "    box.set( color=color_tps, linewidth=2)\n",
    "    # change fill color\n",
    "    box.set( facecolor = 'w' )\n",
    "    \n",
    "## change color and linewidth of the medians\n",
    "for median in bp['medians']:\n",
    "    median.set(color=\"k\", linewidth=2) \n",
    "    \n",
    "## change outline color, fill color and linewidth of the boxes\n",
    "for box in bp2['boxes']:\n",
    "    # change outline color\n",
    "    box.set( color=color_latency, linewidth=2)\n",
    "    # change fill color\n",
    "    box.set( facecolor = 'w' )\n",
    "    \n",
    "## change color and linewidth of the medians\n",
    "for median in bp2['medians']:\n",
    "    median.set(color=\"k\", linewidth=2) \n",
    "\n",
    "plt.figtext(0.3575, 0.55,  'TPS', color='black')\n",
    "plt.figtext(0.3575, 0.5, 'Med:' + str(round(dataFalse_tps.median(),2)), color='black')\n",
    "plt.figtext(0.3575, 0.45, 'Mean:' + str(round(dataFalse_tps.mean(),2)), color='black')\n",
    "plt.figtext(0.3575, 0.35,  'Latency', color='black')\n",
    "plt.figtext(0.3575, 0.3, 'Med:' + str(round(dataFalse_latency.median(),2)), color='black')\n",
    "plt.figtext(0.3575, 0.25,  'Mean:' + str(round(dataFalse_latency.mean(),2)), color='black')\n",
    "\n",
    "plt.figtext(0.75, 0.55,  'TPS', color='black')\n",
    "plt.figtext(0.75, 0.5, 'Med:' + str(round(dataTrue_tps.median(),2)), color='black')\n",
    "plt.figtext(0.75, 0.45, 'Mean:' + str(round(dataTrue_tps.mean(),2)), color='black')\n",
    "plt.figtext(0.75, 0.35,  'Latency', color='black')\n",
    "plt.figtext(0.75, 0.3, 'Med:' + str(round(dataTrue_latency.median(),2)), color='black')\n",
    "plt.figtext(0.75, 0.25,  'Mean:' + str(round(dataTrue_latency.mean(),2)), color='black')\n",
    "\n",
    "ax1.legend([bp[\"boxes\"][0]],[\"Throughput\"],bbox_to_anchor=(0.3, -0.15),fancybox=True,shadow=True,loc=\"upper center\")\n",
    "ax2.legend([bp2[\"boxes\"][0]],[\"Latency\"],bbox_to_anchor=(0.7, -0.15),fancybox=True,shadow=True,loc=\"upper center\")\n",
    "\n",
    "fig.savefig(\"result_bottleneck_transaction_execution.svg\", format=\"svg\")"
   ]
  },
  {
   "cell_type": "code",
   "execution_count": 6,
   "metadata": {},
   "outputs": [
    {
     "name": "stdout",
     "output_type": "stream",
     "text": [
      "p = 1.39213e-85\n",
      "H0 is rejected = there IS a significant difference in throughput\n"
     ]
    }
   ],
   "source": [
    "#https://docs.scipy.org/doc/scipy/reference/generated/scipy.stats.ttest_ind.html\n",
    "\n",
    "from scipy import stats\n",
    "\n",
    "alpha = 0.05\n",
    "t,p = stats.ttest_ind(dataFalse_tps,dataTrue_tps,equal_var=False)\n",
    "print(\"p = {:g}\".format(p))\n",
    "if(p<alpha):\n",
    "    print(\"H0 is rejected = there IS a significant difference in throughput\")\n",
    "else:\n",
    "    print(\"H0 valid = there is NO significant difference in throughput\")"
   ]
  },
  {
   "cell_type": "code",
   "execution_count": 7,
   "metadata": {},
   "outputs": [
    {
     "name": "stdout",
     "output_type": "stream",
     "text": [
      "p = 7.64295e-138\n",
      "H0 is rejected = there IS a significant difference in latency\n"
     ]
    }
   ],
   "source": [
    "t,p = stats.ttest_ind(dataFalse_latency,dataTrue_latency,equal_var=False)\n",
    "\n",
    "print(\"p = {:g}\".format(p))\n",
    "if(p<alpha):\n",
    "    print(\"H0 is rejected = there IS a significant difference in latency\")\n",
    "else:\n",
    "    print(\"H0 valid = there is NO significant difference in latency\")"
   ]
  },
  {
   "cell_type": "markdown",
   "metadata": {},
   "source": [
    "# Runtime Analysis"
   ]
  },
  {
   "cell_type": "code",
   "execution_count": 8,
   "metadata": {},
   "outputs": [
    {
     "data": {
      "text/plain": [
       "Text(0.65,0.55,'Mean:1.38')"
      ]
     },
     "execution_count": 8,
     "metadata": {},
     "output_type": "execute_result"
    },
    {
     "data": {
      "image/png": "[encoded data removed]",
      "text/plain": [
       "<Figure size 432x288 with 1 Axes>"
      ]
     },
     "metadata": {
      "needs_background": "light"
     },
     "output_type": "display_data"
    }
   ],
   "source": [
    "runtimeFalse = data_runtime.loc[df['miningOnFullWorkload'] == False].iloc[:,0]\n",
    "runtimeTrue = data_runtime.loc[df['miningOnFullWorkload'] == True].iloc[:,0]\n",
    "\n",
    "#print('miningOnFullWorkload False Med:' + str(round(runtimeFalse.median(),2)))\n",
    "#print('miningOnFullWorkload True Med:' + str(round(runtimeTrue.median(),2)))\n",
    "\n",
    "fig = plt.figure()\n",
    "\n",
    "# Create an axes instance\n",
    "ax = fig.add_subplot(111)\n",
    "\n",
    "ax.set_title(\"Runtime\")\n",
    "#ax.set_xlabel(xlabel)\n",
    "#ax.set_ylabel(ylabel)\n",
    "\n",
    "# Create the boxplot\n",
    "bp = ax.boxplot([runtimeFalse,runtimeTrue],labels=[\"miningOnFullWorkload False\",\"miningOnFullWorkload True\"], patch_artist=True)\n",
    "\n",
    "## change outline color, fill color and linewidth of the boxes\n",
    "for box in bp['boxes']:\n",
    "    # change outline color\n",
    "    box.set(color=color_runtime, linewidth=2)\n",
    "    # change fill color\n",
    "    box.set(facecolor=\"w\")\n",
    "    \n",
    "## change color and linewidth of the medians\n",
    "for median in bp['medians']:\n",
    "    median.set(color=\"k\", linewidth=2) \n",
    "    \n",
    "plt.figtext(0.275, 0.6, 'Med:' + str(round(runtimeFalse.median(),2)), color='black')\n",
    "plt.figtext(0.275, 0.55, 'Mean:' + str(round(runtimeFalse.mean(),2)), color='black')\n",
    "\n",
    "plt.figtext(0.65, 0.6, 'Med:' + str(round(runtimeTrue.median(),2)), color='black')\n",
    "plt.figtext(0.65, 0.55, 'Mean:' + str(round(runtimeTrue.mean(),2)), color='black')\n",
    "    \n",
    "#fig.savefig(\"runtime.svg\", format=\"svg\")"
   ]
  }
 ],
 "metadata": {
  "kernelspec": {
   "display_name": "Python 3",
   "language": "python",
   "name": "python3"
  },
  "language_info": {
   "codemirror_mode": {
    "name": "ipython",
    "version": 3
   },
   "file_extension": ".py",
   "mimetype": "text/x-python",
   "name": "python",
   "nbconvert_exporter": "python",
   "pygments_lexer": "ipython3",
   "version": "3.7.0"
  }
 },
 "nbformat": 4,
 "nbformat_minor": 2
}
