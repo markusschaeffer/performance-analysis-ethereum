{
 "cells": [
  {
   "cell_type": "markdown",
   "metadata": {},
   "source": [
    "# Helper Methods"
   ]
  },
  {
   "cell_type": "code",
   "execution_count": 1,
   "metadata": {},
   "outputs": [],
   "source": [
    "import numpy as np\n",
    "\n",
    "# outlier removal method: IQR\n",
    "# returns list without outliers\n",
    "# http://colingorrie.github.io/outlier-detection.html\n",
    "# https://machinelearningmastery.com/how-to-use-statistics-to-identify-outliers-in-data/\n",
    "def remove_outliers_iqr(data):\n",
    "    quartile_1, quartile_3 = np.percentile(data, [25, 75])\n",
    "    iqr = quartile_3 - quartile_1\n",
    "    cut_off = (iqr * 1.5)\n",
    "    lower_bound = quartile_1 - cut_off\n",
    "    upper_bound = quartile_3 + cut_off\n",
    "    # identify outliers\n",
    "    outliers = [x for x in data if x < lower_bound or x > upper_bound]\n",
    "    print('Identified outliers: %d' % len(outliers))\n",
    "    # remove outliers\n",
    "    outliers_removed = [x for x in data if x >= lower_bound and x <= upper_bound]\n",
    "    print('Non-outlier observations: %d' % len(outliers_removed))\n",
    "    return outliers_removed\n",
    "\n",
    "# annotates plt with y values\n",
    "def plot_annotate(plt,xvalues,yvalues):\n",
    "    for i,j in zip(xvalues, yvalues):\n",
    "        plt.annotate(str(np.round(j,1)),xy=(i-0.15,j))\n",
    "        \n",
    "def autolabel_barchart(rects,axis):\n",
    "    \"\"\"\n",
    "    Attach a text label above each bar displaying its height\n",
    "    \"\"\"\n",
    "    for rect in rects:\n",
    "        height = rect.get_height()\n",
    "        axis.text(rect.get_x() + rect.get_width()/2., 0.9*height,'%.1f' % round(float(height),1),ha='center', va='bottom')\n",
    "        \n",
    "def autolabel_barchart_2(rects,axis):\n",
    "    \"\"\"\n",
    "    Attach a text label above each bar displaying its height\n",
    "    \"\"\"\n",
    "    for rect in rects:\n",
    "        height = rect.get_height()\n",
    "        axis.text(rect.get_x() + rect.get_width()/2., 0.80*height,'%.f' % round(float(height)),ha='center', va='bottom')\n",
    "    "
   ]
  },
  {
   "cell_type": "markdown",
   "metadata": {},
   "source": [
    "# PyMongo Query\n",
    "\n",
    "db = \"test\"\n",
    "collection = \"benchmarklogs\""
   ]
  },
  {
   "cell_type": "code",
   "execution_count": 2,
   "metadata": {},
   "outputs": [],
   "source": [
    "from pymongo import MongoClient\n",
    "client = MongoClient()\n",
    "\n",
    "db = client['test']\n",
    "collection = db['benchmarklogs']"
   ]
  },
  {
   "cell_type": "markdown",
   "metadata": {},
   "source": [
    "# PyMongo Query ->Pandas DataFrame"
   ]
  },
  {
   "cell_type": "code",
   "execution_count": 3,
   "metadata": {},
   "outputs": [
    {
     "name": "stdout",
     "output_type": "stream",
     "text": [
      "Number of rows:100\n"
     ]
    }
   ],
   "source": [
    "import pandas as pd\n",
    "\n",
    "query = {\"$and\":[ {\"$or\":[ {\"usedGenesisJson\":\"genesis_pow_gasLimit_1.json\"},{\"usedGenesisJson\":\"genesis_pow_gasLimit_05.json\"},{\"usedGenesisJson\":\"genesis_pow_gasLimit_2.json\"},{\"usedGenesisJson\":\"genesis_pow_gasLimit_4.json\"},{\"usedGenesisJson\":\"genesis_pow_gasLimit_8.json\"} ]}, \n",
    "        {\"maxTransactions\": 1000}, {\"instanceType\":'c5.4xlarge'}, {\"nodes\":5}, {\"scenario\":\"account\"}]}\n",
    "#,{\"docker\":{'$exists':True}}\n",
    "# query = {}\n",
    "\n",
    "# Make a query to the specific DB and Collection\n",
    "cursor = collection.find(query)\n",
    "\n",
    "# Expand the cursor and construct the DataFrame\n",
    "df = pd.DataFrame(list(cursor))\n",
    "\n",
    "#display(df.head(200))\n",
    "\n",
    "sample_size = len(df.index)\n",
    "print(\"Number of rows:\" + str(sample_size))\n",
    "\n",
    "remove_outliers=False"
   ]
  },
  {
   "cell_type": "markdown",
   "metadata": {},
   "source": [
    "# Pandas DataFrame -> Plot\n",
    "## Throughput"
   ]
  },
  {
   "cell_type": "code",
   "execution_count": 4,
   "metadata": {},
   "outputs": [
    {
     "name": "stdout",
     "output_type": "stream",
     "text": [
      "\n",
      "Averages:\n",
      "\n",
      "66.20658066168713\n",
      "98.30096407115487\n",
      "112.43040382761292\n",
      "113.00984822811049\n",
      "109.08574619818936\n",
      "\n",
      "Medians:\n",
      "\n",
      "65.70095603683237\n",
      "96.90943426913124\n",
      "107.50519889686859\n",
      "95.51013222387334\n",
      "91.33970804018102\n",
      "\n",
      "Standard Deviations:\n",
      "\n",
      "5.792414465115015\n",
      "10.019443500019964\n",
      "22.24317769706759\n",
      "63.35726939621012\n",
      "66.46459690050959\n"
     ]
    }
   ],
   "source": [
    "import matplotlib.pyplot as plt\n",
    "\n",
    "data_tps = df[['txPerSecond','usedGenesisJson']]\n",
    "#print(data_tps)\n",
    "\n",
    "title = \"Throughput against gasLimit (PoW, n=\" + str(sample_size) + \")\"\n",
    "xlabel = \"GasLimit Factor\"\n",
    "ylabel = \"Transactions Per Second (TPS)\"\n",
    "objects = list([\"Factor 0.5\",\"Factor 1\",\"Factor 2\",\"Factor 4\",\"Factor 8\"])\n",
    "xvalues = [0.5,1,2,4,8]\n",
    "\n",
    "data_tps_1=data_tps.loc[df['usedGenesisJson'] == \"genesis_pow_gasLimit_05.json\"].iloc[:,0]\n",
    "data_tps_2=data_tps.loc[df['usedGenesisJson'] == \"genesis_pow_gasLimit_1.json\"].iloc[:,0]\n",
    "data_tps_3=data_tps.loc[df['usedGenesisJson'] == \"genesis_pow_gasLimit_2.json\"].iloc[:,0]\n",
    "data_tps_4=data_tps.loc[df['usedGenesisJson'] == \"genesis_pow_gasLimit_4.json\"].iloc[:,0]\n",
    "data_tps_5=data_tps.loc[df['usedGenesisJson'] == \"genesis_pow_gasLimit_8.json\"].iloc[:,0]\n",
    "\n",
    "if(remove_outliers==True):\n",
    "    data_tps_1=remove_outliers_iqr(data_tps_1)\n",
    "    data_tps_2=remove_outliers_iqr(data_tps_2)\n",
    "    data_tps_3=remove_outliers_iqr(data_tps_3)\n",
    "    data_tps_4=remove_outliers_iqr(data_tps_4)\n",
    "    data_tps_5=remove_outliers_iqr(data_tps_5)\n",
    "\n",
    "## combine these different collections into a list    \n",
    "data_to_plot = [data_tps_1,data_tps_2,data_tps_3,data_tps_4,data_tps_5]\n",
    "\n",
    "avg1_tps = pd.Series(data_tps_1).mean()\n",
    "avg2_tps = pd.Series(data_tps_2).mean()\n",
    "avg3_tps = pd.Series(data_tps_3).mean()\n",
    "avg4_tps = pd.Series(data_tps_4).mean()\n",
    "avg5_tps = pd.Series(data_tps_5).mean()\n",
    "\n",
    "means_tps = [avg1_tps, avg2_tps, avg3_tps, avg4_tps, avg5_tps]\n",
    "\n",
    "med1_tps=pd.Series(data_tps_1).median()\n",
    "med2_tps=pd.Series(data_tps_2).median()\n",
    "med3_tps=pd.Series(data_tps_3).median()\n",
    "med4_tps=pd.Series(data_tps_4).median()\n",
    "med5_tps=pd.Series(data_tps_5).median()\n",
    "\n",
    "print(\"\\nAverages:\\n\")\n",
    "print(avg1_tps)\n",
    "print(avg2_tps)\n",
    "print(avg3_tps)\n",
    "print(avg4_tps)\n",
    "print(avg5_tps)\n",
    "\n",
    "print(\"\\nMedians:\\n\")\n",
    "print(med1_tps)\n",
    "print(med2_tps)\n",
    "print(med3_tps)\n",
    "print(med4_tps)\n",
    "print(med5_tps)\n",
    "\n",
    "print(\"\\nStandard Deviations:\\n\")\n",
    "print(np.std(data_tps_1))\n",
    "print(np.std(data_tps_2))\n",
    "print(np.std(data_tps_3))\n",
    "print(np.std(data_tps_4))\n",
    "print(np.std(data_tps_5))"
   ]
  },
  {
   "cell_type": "code",
   "execution_count": 5,
   "metadata": {},
   "outputs": [
    {
     "data": {
      "image/png": "[encoded data removed]",
      "text/plain": [
       "<Figure size 648x432 with 1 Axes>"
      ]
     },
     "metadata": {
      "needs_background": "light"
     },
     "output_type": "display_data"
    }
   ],
   "source": [
    "color_latency=\"#ff7f0e\"\n",
    "color_tps=\"#1f77b4\"\n",
    "\n",
    "fig = plt.figure(1, figsize=(9, 6))\n",
    "\n",
    "# Create an axes instance\n",
    "ax = fig.add_subplot(111)\n",
    "\n",
    "ax.set_title(title)\n",
    "ax.set_xlabel(xlabel)\n",
    "ax.set_ylabel(ylabel)\n",
    "\n",
    "# Create the boxplot\n",
    "bp = ax.boxplot(data_to_plot,labels=objects, patch_artist=True)\n",
    "\n",
    "## change outline color, fill color and linewidth of the boxes\n",
    "for box in bp['boxes']:\n",
    "    # change outline color\n",
    "    box.set( color=color_tps, linewidth=2)\n",
    "    # change fill color\n",
    "    box.set( facecolor = 'w' )\n",
    "    \n",
    "## change color and linewidth of the medians\n",
    "for median in bp['medians']:\n",
    "    median.set(color=\"k\", linewidth=2) \n",
    "\n",
    "#fig.savefig(\"result_gasLimit_pow_throughput_boxplot.svg\", format=\"svg\")"
   ]
  },
  {
   "cell_type": "code",
   "execution_count": 6,
   "metadata": {},
   "outputs": [
    {
     "data": {
      "image/png": "[encoded data removed]",
      "text/plain": [
       "<Figure size 432x288 with 1 Axes>"
      ]
     },
     "metadata": {
      "needs_background": "light"
     },
     "output_type": "display_data"
    }
   ],
   "source": [
    "plt.plot(xvalues,means_tps, marker='o', color=color_tps)\n",
    "plt.title(title)\n",
    "plt.ylabel(\"Average Transactions Per Second (TPS)\")\n",
    "plt.xlabel(xlabel)\n",
    "plot_annotate(plt,xvalues, means_tps)\n",
    "#plt.savefig(\"result_gasLimit_pow_throughput_lines_average.svg\", format=\"svg\")\n",
    "plt.show()"
   ]
  },
  {
   "cell_type": "markdown",
   "metadata": {},
   "source": [
    "## Latency"
   ]
  },
  {
   "cell_type": "code",
   "execution_count": 7,
   "metadata": {},
   "outputs": [
    {
     "name": "stdout",
     "output_type": "stream",
     "text": [
      "Identified outliers: 1\n",
      "Non-outlier observations: 19\n",
      "Identified outliers: 1\n",
      "Non-outlier observations: 19\n",
      "\n",
      "Averages:\n",
      "\n",
      "8.0872062\n",
      "5.83574095\n",
      "5.614517899999998\n",
      "6.061562789473684\n",
      "6.1249956842105275\n",
      "\n",
      "Standard Deviations:\n",
      "\n",
      "0.71376274833383\n",
      "0.9069944217356863\n",
      "1.127859422828301\n",
      "2.119064900872045\n",
      "2.7857694767072343\n"
     ]
    }
   ],
   "source": [
    "data_latency = df[['averageDelay','usedGenesisJson']]\n",
    "#print(data_latency)\n",
    "\n",
    "title = \"Latency against gasLimit (PoW, n=\" + str(sample_size) + \")\"\n",
    "xlabel = \"GasLimit Factor\"\n",
    "ylabel = \"Transaction Latency [seconds]\"\n",
    "\n",
    "\n",
    "data_latency_1=data_latency.loc[df['usedGenesisJson'] == \"genesis_pow_gasLimit_05.json\"].iloc[:,0]\n",
    "data_latency_2=data_latency.loc[df['usedGenesisJson'] == \"genesis_pow_gasLimit_1.json\"].iloc[:,0]\n",
    "data_latency_3=data_latency.loc[df['usedGenesisJson'] == \"genesis_pow_gasLimit_2.json\"].iloc[:,0]\n",
    "data_latency_4=data_latency.loc[df['usedGenesisJson'] == \"genesis_pow_gasLimit_4.json\"].iloc[:,0]\n",
    "data_latency_5=data_latency.loc[df['usedGenesisJson'] == \"genesis_pow_gasLimit_8.json\"].iloc[:,0]\n",
    "\n",
    "if(remove_outliers==True):\n",
    "    data_latency_1=remove_outliers_iqr(data_latency_1)\n",
    "    data_latency_2=remove_outliers_iqr(data_latency_2)\n",
    "    data_latency_3=remove_outliers_iqr(data_latency_3)\n",
    "    data_latency_4=remove_outliers_iqr(data_latency_4)\n",
    "    data_latency_5=remove_outliers_iqr(data_latency_5)\n",
    "\n",
    "data_latency_4=remove_outliers_iqr(data_latency_4)    \n",
    "data_latency_5=remove_outliers_iqr(data_latency_5)\n",
    "    \n",
    "## combine these different collections into a list    \n",
    "data_to_plot = [data_latency_1,data_latency_2,data_latency_3,data_latency_4,data_latency_5]\n",
    "\n",
    "avg1_latency = pd.Series(data_latency_1).mean()\n",
    "avg2_latency = pd.Series(data_latency_2).mean()\n",
    "avg3_latency = pd.Series(data_latency_3).mean()\n",
    "avg4_latency = pd.Series(data_latency_4).mean()\n",
    "avg5_latency = pd.Series(data_latency_5).mean()\n",
    "\n",
    "means_latency = [avg1_latency, avg2_latency, avg3_latency, avg4_latency, avg5_latency]\n",
    "\n",
    "print(\"\\nAverages:\\n\")\n",
    "print(avg1_latency)\n",
    "print(avg2_latency)\n",
    "print(avg3_latency)\n",
    "print(avg4_latency)\n",
    "print(avg5_latency)\n",
    "#print(avg6_latency)\n",
    "\n",
    "print(\"\\nStandard Deviations:\\n\")\n",
    "print(np.std(data_latency_1))\n",
    "print(np.std(data_latency_2))\n",
    "print(np.std(data_latency_3))\n",
    "print(np.std(data_latency_4))\n",
    "print(np.std(data_latency_5))"
   ]
  },
  {
   "cell_type": "code",
   "execution_count": 8,
   "metadata": {},
   "outputs": [
    {
     "data": {
      "image/png": "[encoded data removed]",
      "text/plain": [
       "<Figure size 648x432 with 1 Axes>"
      ]
     },
     "metadata": {
      "needs_background": "light"
     },
     "output_type": "display_data"
    }
   ],
   "source": [
    "fig = plt.figure(1, figsize=(9, 6))\n",
    "\n",
    "# Create an axes instance\n",
    "ax = fig.add_subplot(111)\n",
    "\n",
    "ax.set_title(title)\n",
    "ax.set_xlabel(xlabel)\n",
    "ax.set_ylabel(ylabel)\n",
    "\n",
    "# Create the boxplot\n",
    "bp = ax.boxplot(data_to_plot,labels=objects, patch_artist=True)\n",
    "\n",
    "## change outline color, fill color and linewidth of the boxes\n",
    "for box in bp['boxes']:\n",
    "    # change outline color\n",
    "    box.set( color=color_latency, linewidth=2)\n",
    "    # change fill color\n",
    "    box.set( facecolor = 'w' )\n",
    "    \n",
    "## change color and linewidth of the medians\n",
    "for median in bp['medians']:\n",
    "    median.set(color=\"k\", linewidth=2) \n",
    "    \n",
    "#fig.savefig(\"result_gasLimit_pow_latency_boxplot.svg\", format=\"svg\")"
   ]
  },
  {
   "cell_type": "code",
   "execution_count": 10,
   "metadata": {},
   "outputs": [
    {
     "data": {
      "image/png": "[encoded data removed]",
      "text/plain": [
       "<Figure size 432x288 with 1 Axes>"
      ]
     },
     "metadata": {
      "needs_background": "light"
     },
     "output_type": "display_data"
    }
   ],
   "source": [
    "plt.plot(xvalues,means_latency, marker='o', color=color_latency)\n",
    "plt.title(title)\n",
    "plt.ylabel(\"Average Transaction Latency [seconds]\")\n",
    "plt.xlabel(xlabel)\n",
    "plot_annotate(plt,xvalues, means_latency)\n",
    "#plt.savefig(\"result_gasLimit_pow_latency_lines_average.svg\", format=\"svg\")\n",
    "plt.show()"
   ]
  },
  {
   "cell_type": "markdown",
   "metadata": {},
   "source": [
    "## Throughput and Latency Combined"
   ]
  },
  {
   "cell_type": "code",
   "execution_count": null,
   "metadata": {},
   "outputs": [],
   "source": [
    "fig, ax1 = plt.subplots()\n",
    "#fig, ax1 = plt.subplots(figsize=(8, 6))\n",
    "\n",
    "ax1.set_title(\"Throughput and Latency \\n against Block Size (PoW, 5 nodes, c5.4xlarge, n=\" + str(sample_size) + \")\")\n",
    "ax1.set_xlabel(xlabel)\n",
    "\n",
    "ax1.plot(xvalues, means_tps, marker='o', color=color_tps,label=\"Throughput\")\n",
    "ax1.set_ylabel(\"Average Transactions Per Second (TPS)\")\n",
    "ax1.tick_params(xlabel)\n",
    "plot_annotate(ax1,xvalues, means_tps)\n",
    "\n",
    "ax2 = ax1.twinx()\n",
    "ax2.plot(xvalues, means_latency, marker='o', color=color_latency,label=\"Latency\")\n",
    "ax2.set_ylabel(\"Average Transaction Latency [seconds]\")\n",
    "plot_annotate(ax2,xvalues, means_latency)\n",
    "\n",
    "ax1.legend(loc='upper center', bbox_to_anchor=(0.3, -0.2),\n",
    "          ncol=3, fancybox=True, shadow=True)\n",
    "\n",
    "ax2.legend(loc='upper center', bbox_to_anchor=(0.7, -0.2),\n",
    "          ncol=3, fancybox=True, shadow=True)\n",
    "\n",
    "fig.tight_layout()\n",
    "fig.savefig(\"result_gasLimit_pow_c54xlarge_5nodes_combined_lines.svg\", format=\"svg\")\n",
    "plt.show()"
   ]
  },
  {
   "cell_type": "code",
   "execution_count": null,
   "metadata": {},
   "outputs": [],
   "source": [
    "data_hashRate = df[['hashRate','usedGenesisJson']]\n",
    "\n",
    "avg1_hashRate = data_hashRate.loc[df['usedGenesisJson'] == \"genesis_pow_gasLimit_05.json\"].iloc[:,0].mean()\n",
    "avg2_hashRate = data_hashRate.loc[df['usedGenesisJson'] == \"genesis_pow_gasLimit_1.json\"].iloc[:,0].mean()\n",
    "avg3_hashRate = data_hashRate.loc[df['usedGenesisJson'] == \"genesis_pow_gasLimit_2.json\"].iloc[:,0].mean()\n",
    "avg4_hashRate = data_hashRate.loc[df['usedGenesisJson'] == \"genesis_pow_gasLimit_4.json\"].iloc[:,0].mean()\n",
    "avg5_hashRate = data_hashRate.loc[df['usedGenesisJson'] == \"genesis_pow_gasLimit_8.json\"].iloc[:,0].mean()\n",
    "\n",
    "means_hashRate = [avg1_hashRate, avg2_hashRate, avg3_hashRate, avg4_hashRate, avg5_hashRate]\n",
    "\n",
    "fig = plt.figure()\n",
    "ax1 = fig.add_subplot(111)\n",
    "\n",
    "N = len(means_hashRate)\n",
    "ind = np.arange(N) # the x locations for the groups\n",
    "width = 0.35 # the width of the bars\n",
    "\n",
    "## the bars\n",
    "rects1 = ax1.bar(ind, means_tps, width, color=color_tps, alpha=0.75, label=\"Throughput\")\n",
    "ax1.set_ylabel(\"Average Transactions per Second (TPS)\")\n",
    "ax1.set_xlabel(xlabel)\n",
    "\n",
    "ax2 = ax1.twinx()\n",
    "rects2 = ax2.bar(ind+width, means_hashRate, width,color=\"r\", alpha=0.5, label=\"Hashrate\")\n",
    "ax2.set_ylabel(\"Average Hashrate\")\n",
    "\n",
    "# axes and labels\n",
    "#ax1.set_xlim(-width,len(ind)+width)\n",
    "ax1.set_title(\"Throughput and Hashrate \\n against Block Size (PoW, n=\" + str(sample_size) + \")\")\n",
    "ax1.set_xticks(ind + width / 2)\n",
    "ax1.set_xticklabels(objects)\n",
    "\n",
    "## add a legend\n",
    "ax1.legend(loc='upper center', bbox_to_anchor=(0.3, -0.2),\n",
    "          ncol=3, fancybox=True, shadow=True)\n",
    "\n",
    "ax2.legend(loc='upper center', bbox_to_anchor=(0.7, -0.2),\n",
    "          ncol=3, fancybox=True, shadow=True)\n",
    "\n",
    "autolabel_barchart(rects1,ax1)\n",
    "autolabel_barchart(rects2,ax2)\n",
    "\n",
    "fig.tight_layout()\n",
    "#ax1.figure.savefig(\"result_gasLimit_pow_tps_hashrate_combined_barchart.svg\", format=\"svg\",bbox_inches='tight')\n",
    "\n",
    "plt.show()"
   ]
  },
  {
   "cell_type": "code",
   "execution_count": null,
   "metadata": {},
   "outputs": [],
   "source": [
    "data_difficulty= df[['difficulty','usedGenesisJson']]\n",
    "\n",
    "avg1_difficulty = data_difficulty.loc[df['usedGenesisJson'] == \"genesis_pow_gasLimit_05.json\"].iloc[:,0].mean()\n",
    "avg2_difficulty = data_difficulty.loc[df['usedGenesisJson'] == \"genesis_pow_gasLimit_1.json\"].iloc[:,0].mean()\n",
    "avg3_difficulty = data_difficulty.loc[df['usedGenesisJson'] == \"genesis_pow_gasLimit_2.json\"].iloc[:,0].mean()\n",
    "avg4_difficulty = data_difficulty.loc[df['usedGenesisJson'] == \"genesis_pow_gasLimit_4.json\"].iloc[:,0].mean()\n",
    "avg5_difficulty = data_difficulty.loc[df['usedGenesisJson'] == \"genesis_pow_gasLimit_8.json\"].iloc[:,0].mean()\n",
    "\n",
    "means_difficulty = [avg1_difficulty, avg2_difficulty, avg3_difficulty, avg4_difficulty, avg5_difficulty]\n",
    "\n",
    "fig = plt.figure()\n",
    "ax1 = fig.add_subplot(111)\n",
    "\n",
    "N = len(means_hashRate)\n",
    "ind = np.arange(N) # the x locations for the groups\n",
    "width = 0.35 # the width of the bars\n",
    "\n",
    "## the bars\n",
    "rects1 = ax1.bar(ind, means_tps, width, color=color_tps, alpha=0.75, label=\"Throughput\")\n",
    "ax1.set_ylabel(\"Average Transactions per Second (TPS)\")\n",
    "ax1.set_xlabel(xlabel)\n",
    "\n",
    "ax2 = ax1.twinx()\n",
    "rects2 = ax2.bar(ind+width, means_difficulty, width,color=\"#7f7f7f\", alpha=0.5, label=\"Difficulty\")\n",
    "ax2.set_ylabel(\"Average Block Difficulty\")\n",
    "\n",
    "# axes and labels\n",
    "#ax1.set_xlim(-width,len(ind)+width)\n",
    "ax1.set_title(\"Throughput and Block Difficulty \\n against Block Size (PoW, n=\" + str(sample_size) + \")\")\n",
    "ax1.set_xticks(ind + width / 2)\n",
    "ax1.set_xticklabels(objects)\n",
    "\n",
    "## add a legend\n",
    "ax1.legend(loc='upper center', bbox_to_anchor=(0.3, -0.2),\n",
    "          ncol=3, fancybox=True, shadow=True)\n",
    "\n",
    "ax2.legend(loc='upper center', bbox_to_anchor=(0.7, -0.2),\n",
    "          ncol=3, fancybox=True, shadow=True)\n",
    "\n",
    "autolabel_barchart(rects1,ax1)\n",
    "autolabel_barchart_2(rects2,ax2)\n",
    "\n",
    "fig.tight_layout()\n",
    "#ax1.figure.savefig(\"result_gasLimit_pow_tps_difficulty_combined_barchart.svg\", format=\"svg\",bbox_inches='tight')\n",
    "\n",
    "plt.show()"
   ]
  }
 ],
 "metadata": {
  "kernelspec": {
   "display_name": "Python 3",
   "language": "python",
   "name": "python3"
  },
  "language_info": {
   "codemirror_mode": {
    "name": "ipython",
    "version": 3
   },
   "file_extension": ".py",
   "mimetype": "text/x-python",
   "name": "python",
   "nbconvert_exporter": "python",
   "pygments_lexer": "ipython3",
   "version": "3.7.0"
  }
 },
 "nbformat": 4,
 "nbformat_minor": 2
}
