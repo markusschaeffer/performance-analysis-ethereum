{
 "cells": [
  {
   "cell_type": "markdown",
   "metadata": {},
   "source": [
    "# Helper Methods"
   ]
  },
  {
   "cell_type": "code",
   "execution_count": 1,
   "metadata": {},
   "outputs": [],
   "source": [
    "import numpy as np\n",
    "import matplotlib.pyplot as plt\n",
    "import numpy as np\n",
    "import pandas as pd\n",
    "\n",
    "color_latency=\"#ff7f0e\"\n",
    "color_tps=\"#1f77b4\"\n",
    "#color_runtime=\"#000000\"\n",
    "color_runtime=\"#8c564b\"\n",
    "color_runtime_2=\"#000000\"\n",
    "\n",
    "# outlier removal method: IQR\n",
    "# returns list without outliers\n",
    "# http://colingorrie.github.io/outlier-detection.html\n",
    "# https://machinelearningmastery.com/how-to-use-statistics-to-identify-outliers-in-data/\n",
    "def remove_outliers_iqr(data):\n",
    "    quartile_1, quartile_3 = np.percentile(data, [25, 75])\n",
    "    iqr = quartile_3 - quartile_1\n",
    "    cut_off = (iqr * 1.5)\n",
    "    lower_bound = quartile_1 - cut_off\n",
    "    upper_bound = quartile_3 + cut_off\n",
    "    # identify outliers\n",
    "    outliers = [x for x in data if x < lower_bound or x > upper_bound]\n",
    "    print('Identified outliers: %d' % len(outliers))\n",
    "    # remove outliers\n",
    "    outliers_removed = [x for x in data if x >= lower_bound and x <= upper_bound]\n",
    "    print('Non-outlier observations: %d' % len(outliers_removed))\n",
    "    return outliers_removed\n",
    "\n",
    "# annotates plt with y values\n",
    "def plot_annotate(plt,xvalues,yvalues):\n",
    "    for i,j in zip(xvalues, yvalues):\n",
    "        plt.annotate(str(np.round(j,1)),xy=(i-0.15,j))\n",
    "    \n",
    "def autolabel_barchart(rects,axis):\n",
    "    \"\"\"\n",
    "    Attach a text label above each bar displaying its height\n",
    "    \"\"\"\n",
    "    for rect in rects:\n",
    "        height = rect.get_height()\n",
    "        axis.text(rect.get_x() + rect.get_width()/2., 0.90*height,'%.1f' % round(float(height),1),ha='center', va='bottom')"
   ]
  },
  {
   "cell_type": "markdown",
   "metadata": {},
   "source": [
    "# PyMongo Query\n",
    "\n",
    "db = \"test\"\n",
    "collection = \"benchmarklogs\""
   ]
  },
  {
   "cell_type": "code",
   "execution_count": 2,
   "metadata": {},
   "outputs": [],
   "source": [
    "from pymongo import MongoClient\n",
    "client = MongoClient()\n",
    "\n",
    "db = client['test']\n",
    "collection = db['benchmarklogs']"
   ]
  },
  {
   "cell_type": "markdown",
   "metadata": {},
   "source": [
    "# PyMongo Query ->Pandas DataFrame"
   ]
  },
  {
   "cell_type": "code",
   "execution_count": 3,
   "metadata": {},
   "outputs": [
    {
     "name": "stdout",
     "output_type": "stream",
     "text": [
      "Query1 #rows:500\n"
     ]
    }
   ],
   "source": [
    "query1 = {\"$and\":[{\"$or\":[{\"instanceType\":\"c5.large\"}, {\"instanceType\":\"c5.xlarge\"}, {\"instanceType\":\"c5.2xlarge\"}, {\"instanceType\":\"c5.4xlarge\"}]},{\"miningOnFullWorkload\":True}, {\"docker\":False}, {\"approach\":3}, {\"nodes\":1}, {\"usedGenesisJson\":\"genesis_poa_max_performance.json\"}, {\"maxTransactions\": 1000}, {\"scenario\":\"account\"}]}\n",
    "\n",
    "# Make a query to the specific DB and Collection\n",
    "cursor1 = collection.find(query1)\n",
    "\n",
    "# Expand the cursor and construct the DataFrame\n",
    "df1 = pd.DataFrame(list(cursor1))\n",
    "\n",
    "sample_size1 = len(df1.index)\n",
    "print(\"Query1 #rows:\" + str(sample_size1))"
   ]
  },
  {
   "cell_type": "code",
   "execution_count": 4,
   "metadata": {},
   "outputs": [
    {
     "name": "stdout",
     "output_type": "stream",
     "text": [
      "Query2 #rows:400\n"
     ]
    }
   ],
   "source": [
    "query2 = {\"$and\":[{\"$or\":[{\"instanceType\":\"c5.large\"}, {\"instanceType\":\"c5.xlarge\"}, {\"instanceType\":\"c5.2xlarge\"}, {\"instanceType\":\"c5.4xlarge\"}]},{\"miningOnFullWorkload\":False}, {\"docker\":False}, {\"approach\":3}, {\"nodes\":1}, {\"usedGenesisJson\":\"genesis_poa_max_performance.json\"}, {\"maxTransactions\": 1000}, {\"scenario\":\"account\"}]}\n",
    "cursor2 = collection.find(query2)\n",
    "df2 = pd.DataFrame(list(cursor2))\n",
    "sample_size2 = len(df2.index)\n",
    "print(\"Query2 #rows:\" + str(sample_size2))"
   ]
  },
  {
   "cell_type": "markdown",
   "metadata": {},
   "source": [
    "# Runtime Analysis"
   ]
  },
  {
   "cell_type": "code",
   "execution_count": 5,
   "metadata": {},
   "outputs": [
    {
     "name": "stdout",
     "output_type": "stream",
     "text": [
      "Identified outliers: 4\n",
      "Non-outlier observations: 96\n",
      "Identified outliers: 0\n",
      "Non-outlier observations: 100\n",
      "Identified outliers: 0\n",
      "Non-outlier observations: 100\n",
      "Identified outliers: 0\n",
      "Non-outlier observations: 200\n"
     ]
    }
   ],
   "source": [
    "import matplotlib.pyplot as plt\n",
    "\n",
    "q1_data_runtime_instanceType = df1[['runtime','instanceType']]\n",
    "\n",
    "objects = list(['c5.large', 'c5.xlarge', 'c5.2xlarge', 'c5.4xlarge'])\n",
    "y_pos = np.arange(len(objects))\n",
    "\n",
    "q1_data1_runtime = q1_data_runtime_instanceType.loc[df1['instanceType'] == \"c5.large\"].iloc[:,0]\n",
    "q1_data2_runtime = q1_data_runtime_instanceType.loc[df1['instanceType'] == \"c5.xlarge\"].iloc[:,0]\n",
    "q1_data3_runtime = q1_data_runtime_instanceType.loc[df1['instanceType'] == \"c5.2xlarge\"].iloc[:,0]\n",
    "q1_data4_runtime = q1_data_runtime_instanceType.loc[df1['instanceType'] == \"c5.4xlarge\"].iloc[:,0]\n",
    "\n",
    "# REMOVE OUTLIERS\n",
    "q1_data1_runtime = pd.Series(remove_outliers_iqr(q1_data1_runtime))\n",
    "q1_data2_runtime = pd.Series(remove_outliers_iqr(q1_data2_runtime))\n",
    "q1_data3_runtime = pd.Series(remove_outliers_iqr(q1_data3_runtime))\n",
    "q1_data4_runtime = pd.Series(remove_outliers_iqr(q1_data4_runtime))\n",
    "\n",
    "q1_data_to_plot_runtime = [q1_data1_runtime,q1_data2_runtime,q1_data3_runtime,q1_data4_runtime]\n",
    "\n",
    "q1_data1_runtime_mean = q1_data1_runtime.mean()\n",
    "q1_data2_runtime_mean = q1_data2_runtime.mean()\n",
    "q1_data3_runtime_mean = q1_data3_runtime.mean()\n",
    "q1_data4_runtime_mean = q1_data4_runtime.mean()\n",
    "\n",
    "q1_data1_runtime_median = q1_data1_runtime.median()\n",
    "q1_data2_runtime_median = q1_data2_runtime.median()\n",
    "q1_data3_runtime_median = q1_data3_runtime.median()\n",
    "q1_data4_runtime_median = q1_data4_runtime.median()"
   ]
  },
  {
   "cell_type": "code",
   "execution_count": 6,
   "metadata": {},
   "outputs": [
    {
     "name": "stdout",
     "output_type": "stream",
     "text": [
      "Identified outliers: 0\n",
      "Non-outlier observations: 100\n",
      "Identified outliers: 22\n",
      "Non-outlier observations: 78\n",
      "Identified outliers: 0\n",
      "Non-outlier observations: 100\n",
      "Identified outliers: 4\n",
      "Non-outlier observations: 96\n"
     ]
    }
   ],
   "source": [
    "q2_data_runtime_instanceType = df2[['runtime','instanceType']]\n",
    "\n",
    "objects = list(['c5.large', 'c5.xlarge', 'c5.2xlarge', 'c5.4xlarge'])\n",
    "y_pos = np.arange(len(objects))\n",
    "\n",
    "q2_data1_runtime = q2_data_runtime_instanceType.loc[df2['instanceType'] == \"c5.large\"].iloc[:,0]\n",
    "q2_data2_runtime = q2_data_runtime_instanceType.loc[df2['instanceType'] == \"c5.xlarge\"].iloc[:,0]\n",
    "q2_data3_runtime = q2_data_runtime_instanceType.loc[df2['instanceType'] == \"c5.2xlarge\"].iloc[:,0]\n",
    "q2_data4_runtime = q2_data_runtime_instanceType.loc[df2['instanceType'] == \"c5.4xlarge\"].iloc[:,0]\n",
    "\n",
    "# REMOVE OUTLIERS\n",
    "q2_data1_runtime = pd.Series(remove_outliers_iqr(q2_data1_runtime))\n",
    "q2_data2_runtime = pd.Series(remove_outliers_iqr(q2_data2_runtime))\n",
    "q2_data3_runtime = pd.Series(remove_outliers_iqr(q2_data3_runtime))\n",
    "q2_data4_runtime = pd.Series(remove_outliers_iqr(q2_data4_runtime))\n",
    "\n",
    "q2_data_to_plot_runtime = [q2_data1_runtime,q2_data2_runtime,q2_data3_runtime,q2_data4_runtime]\n",
    "\n",
    "q2_data1_runtime_mean = q2_data1_runtime.mean()\n",
    "q2_data2_runtime_mean = q2_data2_runtime.mean()\n",
    "q2_data3_runtime_mean = q2_data3_runtime.mean()\n",
    "q2_data4_runtime_mean = q2_data4_runtime.mean()\n",
    "\n",
    "q2_data1_runtime_median = q2_data1_runtime.median()\n",
    "q2_data2_runtime_median = q2_data2_runtime.median()\n",
    "q2_data3_runtime_median = q2_data3_runtime.median()\n",
    "q2_data4_runtime_median = q2_data4_runtime.median()"
   ]
  },
  {
   "cell_type": "code",
   "execution_count": 7,
   "metadata": {},
   "outputs": [
    {
     "name": "stdout",
     "output_type": "stream",
     "text": [
      "\n",
      "==========\n",
      "QUERY1 (MiningOnFullWorkload=TRUE)\n",
      "==========\n",
      "Time equals transaction validation and executio time in [ms] for a single transaction!\n",
      "\n",
      "c5.large mean runtime: 3.9733854166666656\n",
      "c5.large median runtime: 4.035\n",
      "\n",
      "\n",
      "c5.xlarge mean runtime: 1.873680000000001\n",
      "c5.xlarge median runtime: 1.7545\n",
      "\n",
      "\n",
      "c5.2xlarge mean runtime: 1.66851\n",
      "c5.2xlarge median runtime: 1.7765\n",
      "\n",
      "\n",
      "c5.4xlarge mean runtime: 1.3757199999999994\n",
      "c5.4xlarge median runtime: 1.423\n"
     ]
    }
   ],
   "source": [
    "print(\"\\n==========\\nQUERY1 (MiningOnFullWorkload=TRUE)\\n==========\")\n",
    "print(\"Time equals transaction validation and executio time in [ms] for a single transaction!\\n\")\n",
    "print(\"c5.large mean runtime: \" + str(q1_data1_runtime_mean))\n",
    "print(\"c5.large median runtime: \" + str(q1_data1_runtime_median))\n",
    "print(\"\\n\")\n",
    "print(\"c5.xlarge mean runtime: \" + str(q1_data2_runtime_mean))\n",
    "print(\"c5.xlarge median runtime: \" + str(q1_data2_runtime_median))\n",
    "print(\"\\n\")\n",
    "print(\"c5.2xlarge mean runtime: \" + str(q1_data3_runtime_mean))\n",
    "print(\"c5.2xlarge median runtime: \" + str(q1_data3_runtime_median))\n",
    "print(\"\\n\")\n",
    "print(\"c5.4xlarge mean runtime: \" + str(q1_data4_runtime_mean))\n",
    "print(\"c5.4xlarge median runtime: \" + str(q1_data4_runtime_median))"
   ]
  },
  {
   "cell_type": "code",
   "execution_count": 8,
   "metadata": {},
   "outputs": [
    {
     "name": "stdout",
     "output_type": "stream",
     "text": [
      "\n",
      "==========\n",
      "QUERY2 (MiningOnFullWorkload=FALSE)\n",
      "==========\n",
      "c5.large mean runtime: 4.349549999999999\n",
      "c5.large median runtime: 4.2395\n",
      "\n",
      "\n",
      "c5.xlarge mean runtime: 3.370897435897436\n",
      "c5.xlarge median runtime: 3.348\n",
      "\n",
      "\n",
      "c5.2xlarge mean runtime: 3.1305200000000006\n",
      "c5.2xlarge median runtime: 3.133\n",
      "\n",
      "\n",
      "c5.4xlarge mean runtime: 3.0517708333333324\n",
      "c5.4xlarge median runtime: 3.048\n"
     ]
    }
   ],
   "source": [
    "print(\"\\n==========\\nQUERY2 (MiningOnFullWorkload=FALSE)\\n==========\")\n",
    "print(\"c5.large mean runtime: \" + str(q2_data1_runtime_mean))\n",
    "print(\"c5.large median runtime: \" + str(q2_data1_runtime_median))\n",
    "print(\"\\n\")\n",
    "print(\"c5.xlarge mean runtime: \" + str(q2_data2_runtime_mean))\n",
    "print(\"c5.xlarge median runtime: \" + str(q2_data2_runtime_median))\n",
    "print(\"\\n\")\n",
    "print(\"c5.2xlarge mean runtime: \" + str(q2_data3_runtime_mean))\n",
    "print(\"c5.2xlarge median runtime: \" + str(q2_data3_runtime_median))\n",
    "print(\"\\n\")\n",
    "print(\"c5.4xlarge mean runtime: \" + str(q2_data4_runtime_mean))\n",
    "print(\"c5.4xlarge median runtime: \" + str(q2_data4_runtime_median))"
   ]
  },
  {
   "cell_type": "markdown",
   "metadata": {},
   "source": [
    "# Runtime Plot"
   ]
  },
  {
   "cell_type": "markdown",
   "metadata": {},
   "source": [
    "## Only Workload Execution Runtime"
   ]
  },
  {
   "cell_type": "code",
   "execution_count": 9,
   "metadata": {},
   "outputs": [
    {
     "data": {
      "image/png": "[encoded data removed]",
      "text/plain": [
       "<Figure size 432x288 with 1 Axes>"
      ]
     },
     "metadata": {
      "needs_background": "light"
     },
     "output_type": "display_data"
    }
   ],
   "source": [
    "fig = plt.figure(1)\n",
    "\n",
    "# Create an axes instance\n",
    "ax = fig.add_subplot(111)\n",
    "\n",
    "title = \"Workload Execution Runtime\\n against Node Configuration \\n (1 Node, PoA, period 1 sec, gasLimit * 8, n=400)\"\n",
    "\n",
    "xlabel = \"Node Configuration\"\n",
    "ylabel = \"Workload Execution Runtime [seconds]\"\n",
    "\n",
    "ax.set_title(title)\n",
    "ax.set_xlabel(xlabel)\n",
    "ax.set_ylabel(ylabel)\n",
    "\n",
    "# Create the boxplot\n",
    "bp = ax.boxplot(q1_data_to_plot_runtime,labels=objects, patch_artist=True)\n",
    "\n",
    "## change outline color, fill color and linewidth of the boxes\n",
    "for box in bp['boxes']:\n",
    "    # change outline color\n",
    "    box.set(color=color_runtime, linewidth=2)\n",
    "    # change fill color\n",
    "    box.set(facecolor=\"w\")\n",
    "    \n",
    "## change color and linewidth of the medians\n",
    "for median in bp['medians']:\n",
    "    median.set(color=\"k\", linewidth=2) \n",
    "    \n",
    "plt.figtext(0.2, 0.46, 'Med:' + str(round(q1_data1_runtime_median,2)), color='black')\n",
    "plt.figtext(0.2, 0.41, 'Mean:' + str(round(q1_data1_runtime_mean,2)), color='black')\n",
    "\n",
    "plt.figtext(0.4, 0.46, 'Med:' + str(round(q1_data2_runtime_median,2)), color='black')\n",
    "plt.figtext(0.4, 0.41, 'Mean:' + str(round(q1_data2_runtime_mean,2)), color='black')\n",
    "\n",
    "plt.figtext(0.6, 0.46, 'Med:' + str(round(q1_data3_runtime_median,2)), color='black')\n",
    "plt.figtext(0.6, 0.41, 'Mean:' + str(round(q1_data3_runtime_mean,2)), color='black')\n",
    "\n",
    "plt.figtext(0.8, 0.46, 'Med:' + str(round(q1_data4_runtime_median,2)), color='black')\n",
    "plt.figtext(0.8, 0.41, 'Mean:' + str(round(q1_data4_runtime_mean,2)), color='black')\n",
    "\n",
    "plt.tight_layout()\n",
    "fig.savefig(\"result_node_configuration_poa_workload_execution.svg\", format=\"svg\")"
   ]
  },
  {
   "cell_type": "markdown",
   "metadata": {},
   "source": [
    "## Combined Runtime"
   ]
  },
  {
   "cell_type": "code",
   "execution_count": 10,
   "metadata": {},
   "outputs": [
    {
     "data": {
      "image/png": "[encoded data removed]",
      "text/plain": [
       "<Figure size 432x288 with 2 Axes>"
      ]
     },
     "metadata": {
      "needs_background": "light"
     },
     "output_type": "display_data"
    }
   ],
   "source": [
    "fig = plt.figure()\n",
    "\n",
    "## the data\n",
    "N = 4\n",
    "## necessary variables\n",
    "ind = np.arange(N)\n",
    "#print(ind)\n",
    "# Create an axes instance\n",
    "ax1 = fig.add_subplot(111)\n",
    "\n",
    "title = \"Runtime against Node Configuration \\n (1 Node, PoA, period 1 sec, gasLimit * 8, n=800)\"\n",
    "ax1.set_title(title)\n",
    "#ax1.set_xlabel(xlabel)\n",
    "ax1.set_ylabel(\"Full Runtime [seconds]\")\n",
    "\n",
    "# Create the boxplot\n",
    "bp1 = ax1.boxplot(q2_data_to_plot_runtime, labels=objects, widths=(0.25, 0.25, 0.25, 0.25), positions=ind+0.1, patch_artist=True, manage_xticks=True)\n",
    "\n",
    "ax2 = ax1.twinx()\n",
    "bp2 = ax2.boxplot(q1_data_to_plot_runtime, labels=objects, widths=(0.25, 0.25, 0.25, 0.25), positions=ind+0.4, patch_artist=True, manage_xticks=True)\n",
    "#ax1.set_xticks(ind + 0.5/2)\n",
    "ax2.set_ylabel(\"Average Transaction Latency [seconds]\")\n",
    "ax1.set_xticklabels(objects)\n",
    "ax2.set_ylabel(\"Workload Execution and \\n State Change Runtime [seconds]\")\n",
    "\n",
    "#ax2.yaxis.label.set_color(color_runtime)\n",
    "#ax2.tick_params(axis=\"y\", colors=color_runtime)\n",
    "\n",
    "ax1.set_ylim(bottom=1, top=5.5)\n",
    "ax2.set_ylim(bottom=1, top=5.5)\n",
    "\n",
    "## change outline color, fill color and linewidth of the boxes\n",
    "for box in bp1['boxes']:\n",
    "    # change outline color\n",
    "    box.set(color=color_runtime_2, linewidth=2)\n",
    "    # change fill color\n",
    "    box.set(facecolor=\"w\")\n",
    "    \n",
    "## change color and linewidth of the medians\n",
    "for median in bp1['medians']:\n",
    "    median.set(color=\"k\", linewidth=2) \n",
    "    \n",
    "    ## change outline color, fill color and linewidth of the boxes\n",
    "for box in bp2['boxes']:\n",
    "    # change outline color\n",
    "    box.set(color=color_runtime, linewidth=2)\n",
    "    # change fill color\n",
    "    box.set(facecolor=\"w\")\n",
    "    \n",
    "## change color and linewidth of the medians\n",
    "for median in bp2['medians']:\n",
    "    median.set(color=\"k\", linewidth=2)\n",
    "    \n",
    "## add a legend\n",
    "#ax1.legend(loc='upper center', bbox_to_anchor=(0.3, -0.2),\n",
    "#          ncol=3, fancybox=True, shadow=True)\n",
    "\n",
    "#ax2.legend(loc='upper center', bbox_to_anchor=(0.7, -0.2),\n",
    "#          ncol=3, fancybox=True, shadow=True)\n",
    "    \n",
    "ax1.legend([bp1[\"boxes\"][0]],[\"Full Runtime\"],bbox_to_anchor=(0.05, -0.1),fancybox=True,shadow=True,loc=\"upper center\")\n",
    "ax2.legend([bp2[\"boxes\"][0]],[\"Workload Execution and State Change Runtime\"],bbox_to_anchor=(0.65, -0.1),fancybox=True,shadow=True,loc=\"upper center\")\n",
    "\n",
    "fig.savefig(\"result_nodes_configuration_runtime_analysis_combined.svg\", format=\"svg\")"
   ]
  },
  {
   "cell_type": "code",
   "execution_count": 20,
   "metadata": {},
   "outputs": [
    {
     "name": "stdout",
     "output_type": "stream",
     "text": [
      "91.35164365662348%\n",
      "55.58401095348574%\n",
      "53.29817410526046%\n",
      "45.07940062122401%\n"
     ]
    }
   ],
   "source": [
    "print(str(q1_data1_runtime_mean/q2_data1_runtime_mean*100) + \"%\")\n",
    "print(str(q1_data2_runtime_mean/q2_data2_runtime_mean*100) + \"%\")\n",
    "print(str(q1_data3_runtime_mean/q2_data3_runtime_mean*100) + \"%\")\n",
    "print(str(q1_data4_runtime_mean/q2_data4_runtime_mean*100) + \"%\")"
   ]
  },
  {
   "cell_type": "markdown",
   "metadata": {},
   "source": [
    "# Throughput and Latency"
   ]
  },
  {
   "cell_type": "code",
   "execution_count": 12,
   "metadata": {},
   "outputs": [],
   "source": [
    "data_tps_instanceType = df1[['txPerSecond','instanceType']]\n",
    "\n",
    "title_tps = \"Throughput against Node Configuration (PoA, n=\" + str(sample_size1) + \")\"\n",
    "\n",
    "xlabel = \"Node Configuration\"\n",
    "ylabel_tps = \"Transactions Per Second (TPS)\"\n",
    "ylabel_tps_average = \"Average Transactions Per Second (TPS)\"\n",
    "\n",
    "#objects = list(['c5.large', 'c5.xlarge', 't2.xlarge', 'c5.2xlarge', 'c5.4xlarge'])\n",
    "objects = list(['c5.large', 'c5.xlarge', 'c5.2xlarge', 'c5.4xlarge'])\n",
    "y_pos = np.arange(len(objects))\n",
    "\n",
    "data1_tps = data_tps_instanceType.loc[df1['instanceType'] == \"c5.large\"].iloc[:,0]\n",
    "data2_tps = data_tps_instanceType.loc[df1['instanceType'] == \"c5.xlarge\"].iloc[:,0]\n",
    "#data3_tps = data_tps_instanceType.loc[df['instanceType'] == \"t2.xlarge\"].iloc[:,0]\n",
    "data4_tps = data_tps_instanceType.loc[df1['instanceType'] == \"c5.2xlarge\"].iloc[:,0]\n",
    "data5_tps = data_tps_instanceType.loc[df1['instanceType'] == \"c5.4xlarge\"].iloc[:,0]\n",
    "\n",
    "# REMOVE OUTLIERS\n",
    "#data1_tps = pd.Series(remove_outliers_iqr(data1_tps))\n",
    "#data2_tps = pd.Series(remove_outliers_iqr(data2_tps))\n",
    "#data3_tps = pd.Series(remove_outliers_iqr(data3_tps))\n",
    "#data4_tps = pd.Series(remove_outliers_iqr(data4_tps))\n",
    "#data5_tps = pd.Series(remove_outliers_iqr(data5_tps))\n",
    "\n",
    "## combine these different collections into a list    \n",
    "#data_to_plot_tps = [data1_tps,data2_tps,data3_tps,data4_tps,data5_tps]\n",
    "data_to_plot_tps = [data1_tps,data2_tps,data4_tps,data5_tps]\n",
    "\n",
    "avg1_tps = data1_tps.mean()\n",
    "avg2_tps = data2_tps.mean()\n",
    "#avg3_tps = data3_tps.mean()\n",
    "avg4_tps = data4_tps.mean()\n",
    "avg5_tps = data5_tps.mean()\n",
    "\n",
    "#means_tps = [avg1_tps, avg2_tps, avg3_tps, avg4_tps, avg5_tps]\n",
    "means_tps = [avg1_tps, avg2_tps, avg4_tps, avg5_tps]"
   ]
  },
  {
   "cell_type": "code",
   "execution_count": 13,
   "metadata": {},
   "outputs": [],
   "source": [
    "data_latency_instanceType = df1[['averageDelay','instanceType']]\n",
    "\n",
    "title_latency = \"Latency against Node Configuration (PoA, n=\" + str(sample_size1) + \")\"\n",
    "ylabel_latency = \"Transaction Latency [seconds]\"\n",
    "ylabel_latency_average = \"Average Transaction Latency [seconds]\"\n",
    "\n",
    "data1_latency = data_latency_instanceType.loc[df1['instanceType'] == \"c5.large\"].iloc[:,0]\n",
    "data2_latency = data_latency_instanceType.loc[df1['instanceType'] == \"c5.xlarge\"].iloc[:,0]\n",
    "#data3_latency = data_latency_instanceType.loc[df1['instanceType'] == \"t2.xlarge\"].iloc[:,0]\n",
    "data4_latency = data_latency_instanceType.loc[df1['instanceType'] == \"c5.2xlarge\"].iloc[:,0]\n",
    "data5_latency = data_latency_instanceType.loc[df1['instanceType'] == \"c5.4xlarge\"].iloc[:,0]\n",
    "\n",
    "# REMOVE OUTLIERS\n",
    "#data1_latency = pd.Series(remove_outliers_iqr(data1_latency))\n",
    "#data2_latency = pd.Series(remove_outliers_iqr(data2_latency))\n",
    "#data3_latency = pd.Series(remove_outliers_iqr(data3_latency))\n",
    "#data4_latency = pd.Series(remove_outliers_iqr(data4_latency))\n",
    "#data5_latency = pd.Series(remove_outliers_iqr(data5_latency))\n",
    "\n",
    "## combine these different collections into a list    \n",
    "#data_to_plot_latency = [data1_latency,data2_latency,data3_latency,data4_latency,data5_latency]\n",
    "data_to_plot_latency = [data1_latency,data2_latency,data4_latency,data5_latency]\n",
    "\n",
    "avg1_latency = data1_latency.mean()\n",
    "avg2_latency = data2_latency.mean()\n",
    "#avg3_latency = data3_latency.mean()\n",
    "avg4_latency = data4_latency.mean()\n",
    "avg5_latency = data5_latency.mean()\n",
    "\n",
    "#means_latency = [avg1_latency, avg2_latency, avg3_latency, avg4_latency, avg5_latency]\n",
    "means_latency = [avg1_latency, avg2_latency, avg4_latency, avg5_latency]"
   ]
  },
  {
   "cell_type": "code",
   "execution_count": 14,
   "metadata": {},
   "outputs": [
    {
     "data": {
      "image/png": "[encoded data removed]",
      "text/plain": [
       "<Figure size 432x288 with 2 Axes>"
      ]
     },
     "metadata": {
      "needs_background": "light"
     },
     "output_type": "display_data"
    }
   ],
   "source": [
    "fig = plt.figure()\n",
    "ax1 = fig.add_subplot(111)\n",
    "\n",
    "N = len(means_tps)\n",
    "ind = np.arange(N) # the x locations for the groups\n",
    "width = 0.35 # the width of the bars\n",
    "\n",
    "## the bars\n",
    "rects1 = ax1.bar(ind, means_tps, width, color=color_tps,alpha=0.75, label=\"Throughput\")\n",
    "ax1.set_ylabel(ylabel_tps_average)\n",
    "ax1.set_xlabel(xlabel)\n",
    "\n",
    "ax2 = ax1.twinx()\n",
    "rects2 = ax2.bar(ind+width, means_latency, width,color=color_latency,alpha=0.75, label=\"Latency\")\n",
    "ax2.set_ylabel(ylabel_latency_average)\n",
    "\n",
    "# axes and labels\n",
    "#ax1.set_xlim(-width,len(ind)+width)\n",
    "ax1.set_title(\"Throughput and Latency against Node Configuration:\\nTransaction Validation and Execution Only\\n (1 nodes, PoA, period 1sec, gasLimit * 8, n=\" + str(200) + \")\")\n",
    "ax1.set_xticks(ind + width / 2)\n",
    "ax1.set_xticklabels(objects)\n",
    "\n",
    "## add a legend\n",
    "ax1.legend(loc='upper center', bbox_to_anchor=(0.3, -0.2),\n",
    "          ncol=3, fancybox=True, shadow=True)\n",
    "\n",
    "ax2.legend(loc='upper center', bbox_to_anchor=(0.7, -0.2),\n",
    "          ncol=3, fancybox=True, shadow=True)\n",
    "\n",
    "autolabel_barchart(rects1,ax1)\n",
    "autolabel_barchart(rects2,ax2)\n",
    "\n",
    "fig.tight_layout()\n",
    "ax1.figure.savefig(\"result_node_configuration_poa_transaction_validation_execution_tps_latency.svg\", format=\"svg\",bbox_inches='tight')\n",
    "plt.show()"
   ]
  },
  {
   "cell_type": "markdown",
   "metadata": {},
   "source": [
    "# Percentual Changes of Transaction Execution Runtime"
   ]
  },
  {
   "cell_type": "code",
   "execution_count": 15,
   "metadata": {},
   "outputs": [
    {
     "name": "stdout",
     "output_type": "stream",
     "text": [
      "\n",
      "Percentual Changes of Transaction Exection Runtime (Mean):\n",
      "large to xlarge: 52.84%\n",
      "xlarge to 2xlarge: 10.95%\n",
      "2xlarge to 4xlarge: 17.55%\n",
      "\n",
      "Percentual Changes of Transaction Exection Runtime (Median):\n",
      "large to xlarge: 56.52%\n",
      "xlarge to 2xlarge: 1.25%\n",
      "2xlarge to 4xlarge: 19.9%\n"
     ]
    }
   ],
   "source": [
    "def calculateScalabilityInPercent(x,y):\n",
    "    return str(round(abs(x-y)/x * 100,2))\n",
    "\n",
    "print(\"\\nPercentual Changes of Transaction Exection Runtime (Mean):\")\n",
    "print(\"large to xlarge: \" + calculateScalabilityInPercent(q1_data1_runtime_mean,q1_data2_runtime_mean) + \"%\")\n",
    "print(\"xlarge to 2xlarge: \" + calculateScalabilityInPercent(q1_data2_runtime_mean,q1_data3_runtime_mean) + \"%\")\n",
    "print(\"2xlarge to 4xlarge: \" + calculateScalabilityInPercent(q1_data3_runtime_mean,q1_data4_runtime_mean) + \"%\")\n",
    "\n",
    "print(\"\\nPercentual Changes of Transaction Exection Runtime (Median):\")\n",
    "print(\"large to xlarge: \" + calculateScalabilityInPercent(q1_data1_runtime_median,q1_data2_runtime_median) + \"%\")\n",
    "print(\"xlarge to 2xlarge: \" + calculateScalabilityInPercent(q1_data2_runtime_median,q1_data3_runtime_median) + \"%\")\n",
    "print(\"2xlarge to 4xlarge: \" + calculateScalabilityInPercent(q1_data3_runtime_median,q1_data4_runtime_median) + \"%\")"
   ]
  }
 ],
 "metadata": {
  "kernelspec": {
   "display_name": "Python 3",
   "language": "python",
   "name": "python3"
  },
  "language_info": {
   "codemirror_mode": {
    "name": "ipython",
    "version": 3
   },
   "file_extension": ".py",
   "mimetype": "text/x-python",
   "name": "python",
   "nbconvert_exporter": "python",
   "pygments_lexer": "ipython3",
   "version": "3.7.0"
  }
 },
 "nbformat": 4,
 "nbformat_minor": 2
}
