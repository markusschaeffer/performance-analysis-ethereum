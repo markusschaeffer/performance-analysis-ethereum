{
 "cells": [
  {
   "cell_type": "markdown",
   "metadata": {},
   "source": [
    "# Helper Methods"
   ]
  },
  {
   "cell_type": "code",
   "execution_count": 1,
   "metadata": {},
   "outputs": [],
   "source": [
    "import numpy as np\n",
    "\n",
    "# outlier removal method: IQR\n",
    "# returns list without outliers\n",
    "# http://colingorrie.github.io/outlier-detection.html\n",
    "# https://machinelearningmastery.com/how-to-use-statistics-to-identify-outliers-in-data/\n",
    "def remove_outliers_iqr(data):\n",
    "    quartile_1, quartile_3 = np.percentile(data, [25, 75])\n",
    "    iqr = quartile_3 - quartile_1\n",
    "    cut_off = (iqr * 1.5)\n",
    "    lower_bound = quartile_1 - cut_off\n",
    "    upper_bound = quartile_3 + cut_off\n",
    "    # identify outliers\n",
    "    outliers = [x for x in data if x < lower_bound or x > upper_bound]\n",
    "    print('Identified outliers: %d' % len(outliers))\n",
    "    # remove outliers\n",
    "    outliers_removed = [x for x in data if x >= lower_bound and x <= upper_bound]\n",
    "    print('Non-outlier observations: %d' % len(outliers_removed))\n",
    "    return outliers_removed\n",
    "\n",
    "# annotates plt with y values\n",
    "def plot_annotate(plt,xvalues,yvalues):\n",
    "    for i,j in zip(xvalues, yvalues):\n",
    "        plt.annotate(str(np.round(j,1)),xy=(i-0.15,j))\n",
    "    \n",
    "def autolabel_barchart(rects,axis):\n",
    "    \"\"\"\n",
    "    Attach a text label above each bar displaying its height\n",
    "    \"\"\"\n",
    "    for rect in rects:\n",
    "        height = rect.get_height()\n",
    "        axis.text(rect.get_x() + rect.get_width()/2., 0.90*height,'%.1f' % round(float(height),1),ha='center', va='bottom')"
   ]
  },
  {
   "cell_type": "markdown",
   "metadata": {},
   "source": [
    "# PyMongo Query\n",
    "\n",
    "db = \"test\"\n",
    "collection = \"benchmarklogs\""
   ]
  },
  {
   "cell_type": "code",
   "execution_count": 2,
   "metadata": {},
   "outputs": [],
   "source": [
    "from pymongo import MongoClient\n",
    "client = MongoClient()\n",
    "\n",
    "db = client['test']\n",
    "collection = db['benchmarklogs']"
   ]
  },
  {
   "cell_type": "markdown",
   "metadata": {},
   "source": [
    "# PyMongo Query ->Pandas DataFrame"
   ]
  },
  {
   "cell_type": "code",
   "execution_count": 3,
   "metadata": {},
   "outputs": [
    {
     "name": "stdout",
     "output_type": "stream",
     "text": [
      "Number of rows:330\n"
     ]
    }
   ],
   "source": [
    "import numpy as np\n",
    "import pandas as pd\n",
    "\n",
    "#query = {\"$and\":[ {\"$or\":[{\"instanceType\":\"c5.large\"},{\"instanceType\":\"t2.xlarge\"},{\"instanceType\":\"c5.xlarge\"},{\"instanceType\":\"c5.2xlarge\"},{\"instanceType\":\"c5.4xlarge\"}]}, \n",
    "#        {\"usedGenesisJson\":\"genesis_poa_max_performance.json\"}, {\"maxTransactions\": 1000}, {\"scenario\":\"account\"}, {\"nodes\":5}]}\n",
    "\n",
    "#query = {\"$and\":[ {\"$or\":[{\"instanceType\":\"c5.large\"},{\"instanceType\":\"c5.xlarge\"},{\"instanceType\":\"c5.2xlarge\"},{\"instanceType\":\"c5.4xlarge\"}]}, \n",
    "#        {\"usedGenesisJson\":\"genesis_poa_max_performance.json\"}, {\"maxTransactions\": 1000}, {\"scenario\":\"account\"}, {\"nodes\":1},{\"approach\":3}, {\"miningOnFullWorkload\":{\"$exists\": False}}]}\n",
    "\n",
    "#query = {\"$and\":[ {\"$or\":[{\"instanceType\":\"c5.large\"},{\"instanceType\":\"c5.xlarge\"},{\"instanceType\":\"c5.2xlarge\"},{\"instanceType\":\"c5.4xlarge\"}]}, \n",
    "#        {\"usedGenesisJson\":\"genesis_poa_max_performance.json\"}, {\"maxTransactions\": 1000}, {\"scenario\":\"account\"}, {\"nodes\":1},{\"approach\":3}, {\"miningOnFullWorkload\":False}, {\"docker\":False}]}\n",
    "\n",
    "query = {\"$and\":[ {\"$or\":[{\"instanceType\":\"c5.large\"},{\"instanceType\":\"c5.xlarge\"},{\"instanceType\":\"c5.2xlarge\"},{\"instanceType\":\"c5.4xlarge\"}]}, \n",
    "        {\"usedGenesisJson\":\"genesis_poa_max_performance.json\"}, {\"maxTransactions\": 1000}, {\"scenario\":\"account\"}, {\"nodes\":1},{\"approach\":3}, {\"miningOnFullWorkload\":False}, {\"docker\":True}]}\n",
    "\n",
    "\n",
    "# Make a query to the specific DB and Collection\n",
    "cursor = collection.find(query)\n",
    "\n",
    "# Expand the cursor and construct the DataFrame\n",
    "df = pd.DataFrame(list(cursor))\n",
    "\n",
    "#display(df.head(200))\n",
    "\n",
    "sample_size = len(df.index)\n",
    "print(\"Number of rows:\" + str(sample_size))"
   ]
  },
  {
   "cell_type": "markdown",
   "metadata": {},
   "source": [
    "# Pandas DataFrame -> Plot\n",
    "## Throughput"
   ]
  },
  {
   "cell_type": "code",
   "execution_count": 4,
   "metadata": {},
   "outputs": [
    {
     "name": "stdout",
     "output_type": "stream",
     "text": [
      "Identified outliers: 0\n",
      "Non-outlier observations: 65\n",
      "Identified outliers: 0\n",
      "Non-outlier observations: 65\n",
      "Identified outliers: 0\n",
      "Non-outlier observations: 100\n",
      "Identified outliers: 0\n",
      "Non-outlier observations: 100\n"
     ]
    }
   ],
   "source": [
    "import matplotlib.pyplot as plt\n",
    "\n",
    "data_tps_instanceType = df[['txPerSecond','instanceType']]\n",
    "data_hashRate_instanceType = df[['hashRate','instanceType']]\n",
    "\n",
    "title_tps = \"Throughput against Node Configuration (PoA, 1 Node, n=\" + str(sample_size) + \")\"\n",
    "title_hashRate = \"Hashrate against Node Configuration (PoA, n=\" + str(sample_size) + \")\"\n",
    "\n",
    "xlabel = \"Node Configuration\"\n",
    "ylabel_tps = \"Transactions Per Second (TPS)\"\n",
    "ylabel_tps_average = \"Average Transactions Per Second (TPS)\"\n",
    "ylabel_hashRate_average=\"Average Hashrate\"\n",
    "\n",
    "#objects = list(['c5.large', 'c5.xlarge', 't2.xlarge', 'c5.2xlarge', 'c5.4xlarge'])\n",
    "objects = list(['c5.large', 'c5.xlarge', 'c5.2xlarge', 'c5.4xlarge'])\n",
    "y_pos = np.arange(len(objects))\n",
    "\n",
    "data1_tps = data_tps_instanceType.loc[df['instanceType'] == \"c5.large\"].iloc[:,0]\n",
    "data2_tps = data_tps_instanceType.loc[df['instanceType'] == \"c5.xlarge\"].iloc[:,0]\n",
    "#data3_tps = data_tps_instanceType.loc[df['instanceType'] == \"t2.xlarge\"].iloc[:,0]\n",
    "data4_tps = data_tps_instanceType.loc[df['instanceType'] == \"c5.2xlarge\"].iloc[:,0]\n",
    "data5_tps = data_tps_instanceType.loc[df['instanceType'] == \"c5.4xlarge\"].iloc[:,0]\n",
    "\n",
    "# REMOVE OUTLIERS\n",
    "data1_tps = pd.Series(remove_outliers_iqr(data1_tps))\n",
    "data2_tps = pd.Series(remove_outliers_iqr(data2_tps))\n",
    "#data3_tps = pd.Series(remove_outliers_iqr(data3_tps))\n",
    "data4_tps = pd.Series(remove_outliers_iqr(data4_tps))\n",
    "data5_tps = pd.Series(remove_outliers_iqr(data5_tps))\n",
    "\n",
    "## combine these different collections into a list    \n",
    "#data_to_plot_tps = [data1_tps,data2_tps,data3_tps,data4_tps,data5_tps]\n",
    "data_to_plot_tps = [data1_tps,data2_tps,data4_tps,data5_tps]\n",
    "\n",
    "avg1_tps = data1_tps.mean()\n",
    "avg2_tps = data2_tps.mean()\n",
    "#avg3_tps = data3_tps.mean()\n",
    "avg4_tps = data4_tps.mean()\n",
    "avg5_tps = data5_tps.mean()\n",
    "\n",
    "avg1_hashRate = data_hashRate_instanceType.loc[df['instanceType'] == \"c5.large\"].iloc[:,0].mean()\n",
    "avg2_hashRate = data_hashRate_instanceType.loc[df['instanceType'] == \"c5.xlarge\"].iloc[:,0].mean()\n",
    "#avg3_hashRate = data_hashRate_instanceType.loc[df['instanceType'] == \"t2.xlarge\"].iloc[:,0].mean()\n",
    "avg4_hashRate = data_hashRate_instanceType.loc[df['instanceType'] == \"c5.2xlarge\"].iloc[:,0].mean()\n",
    "avg5_hashRate = data_hashRate_instanceType.loc[df['instanceType'] == \"c5.4xlarge\"].iloc[:,0].mean()\n",
    "\n",
    "#means_tps = [avg1_tps, avg2_tps, avg3_tps, avg4_tps, avg5_tps]\n",
    "means_tps = [avg1_tps, avg2_tps, avg4_tps, avg5_tps]\n",
    "#means_hashRate = [avg1_hashRate, avg2_hashRate, avg3_hashRate, avg4_hashRate, avg5_hashRate]\n",
    "means_hashRate = [avg1_hashRate, avg2_hashRate, avg4_hashRate, avg5_hashRate]"
   ]
  },
  {
   "cell_type": "code",
   "execution_count": 5,
   "metadata": {},
   "outputs": [
    {
     "data": {
      "image/png": "[encoded data removed]",
      "text/plain": [
       "<Figure size 648x432 with 1 Axes>"
      ]
     },
     "metadata": {
      "needs_background": "light"
     },
     "output_type": "display_data"
    }
   ],
   "source": [
    "color_latency=\"#ff7f0e\"\n",
    "color_tps=\"#1f77b4\"\n",
    "\n",
    "fig = plt.figure(1, figsize=(9, 6))\n",
    "\n",
    "# Create an axes instance\n",
    "ax = fig.add_subplot(111)\n",
    "\n",
    "ax.set_title(title_tps)\n",
    "ax.set_xlabel(xlabel)\n",
    "ax.set_ylabel(ylabel_tps)\n",
    "\n",
    "# Create the boxplot\n",
    "\n",
    "bp = ax.boxplot(data_to_plot_tps,labels=objects, patch_artist=True)\n",
    "\n",
    "## change outline color, fill color and linewidth of the boxes\n",
    "for box in bp['boxes']:\n",
    "    # change outline color\n",
    "    box.set(color=color_tps, linewidth=2)\n",
    "    # change fill color\n",
    "    box.set(facecolor=\"w\")\n",
    "    \n",
    "## change color and linewidth of the medians\n",
    "for median in bp['medians']:\n",
    "    median.set(color=\"k\", linewidth=2) \n",
    "    \n",
    "#fig.savefig(\"result_nodes_configuration_poa_throughput_boxplot.svg\", format=\"svg\")\n",
    "\n"
   ]
  },
  {
   "cell_type": "markdown",
   "metadata": {},
   "source": [
    "## Latency"
   ]
  },
  {
   "cell_type": "code",
   "execution_count": 6,
   "metadata": {},
   "outputs": [
    {
     "name": "stdout",
     "output_type": "stream",
     "text": [
      "265     4.850875\n",
      "266     3.755011\n",
      "267     3.981037\n",
      "268    13.388846\n",
      "269     3.939329\n",
      "270     4.458093\n",
      "271     3.868874\n",
      "272     3.849558\n",
      "273     3.867650\n",
      "274     3.696890\n",
      "275     3.900319\n",
      "276    40.784191\n",
      "277     3.839244\n",
      "278     3.677063\n",
      "279     3.788125\n",
      "280     4.138105\n",
      "281     3.719199\n",
      "282     3.776376\n",
      "283     3.833125\n",
      "284     3.959703\n",
      "285     3.844340\n",
      "286    34.567279\n",
      "287     4.449950\n",
      "288     3.829836\n",
      "289     4.013986\n",
      "290     3.840895\n",
      "291     4.058121\n",
      "292     3.819169\n",
      "293     3.578945\n",
      "294     4.040251\n",
      "         ...    \n",
      "300     3.943983\n",
      "301     6.454259\n",
      "302     7.010151\n",
      "303     5.493237\n",
      "304     6.050508\n",
      "305     6.843618\n",
      "306     8.273346\n",
      "307     5.673604\n",
      "308     5.814518\n",
      "309    16.286275\n",
      "310    62.655270\n",
      "311     8.342593\n",
      "312     8.596099\n",
      "313     6.889666\n",
      "314     6.339147\n",
      "315     6.242480\n",
      "316     6.800537\n",
      "317     5.589366\n",
      "318     8.247892\n",
      "319     5.817411\n",
      "320     7.461442\n",
      "321     7.581691\n",
      "322     9.432114\n",
      "323     6.742016\n",
      "324     5.108605\n",
      "325     4.634414\n",
      "326     4.627420\n",
      "327     5.231231\n",
      "328     4.609374\n",
      "329     7.560436\n",
      "Name: averageDelay, Length: 65, dtype: float64\n",
      "Identified outliers: 5\n",
      "Non-outlier observations: 60\n",
      "Identified outliers: 0\n",
      "Non-outlier observations: 65\n",
      "Identified outliers: 1\n",
      "Non-outlier observations: 99\n",
      "Identified outliers: 0\n",
      "Non-outlier observations: 100\n"
     ]
    }
   ],
   "source": [
    "import matplotlib.pyplot as plt\n",
    "\n",
    "data_latency_instanceType = df[['averageDelay','instanceType']]\n",
    "\n",
    "title_latency = \"Latency against Node Configuration (PoA, n=\" + str(sample_size) + \")\"\n",
    "ylabel_latency = \"Transaction Latency [seconds]\"\n",
    "ylabel_latency_average = \"Average Transaction Latency [seconds]\"\n",
    "\n",
    "data1_latency = data_latency_instanceType.loc[df['instanceType'] == \"c5.large\"].iloc[:,0]\n",
    "data2_latency = data_latency_instanceType.loc[df['instanceType'] == \"c5.xlarge\"].iloc[:,0]\n",
    "#data3_latency = data_latency_instanceType.loc[df['instanceType'] == \"t2.xlarge\"].iloc[:,0]\n",
    "data4_latency = data_latency_instanceType.loc[df['instanceType'] == \"c5.2xlarge\"].iloc[:,0]\n",
    "data5_latency = data_latency_instanceType.loc[df['instanceType'] == \"c5.4xlarge\"].iloc[:,0]\n",
    "\n",
    "# REMOVE OUTLIERS\n",
    "data1_latency = pd.Series(remove_outliers_iqr(data1_latency))\n",
    "data2_latency = pd.Series(remove_outliers_iqr(data2_latency))\n",
    "#data3_latency = pd.Series(remove_outliers_iqr(data3_latency))\n",
    "data4_latency = pd.Series(remove_outliers_iqr(data4_latency))\n",
    "data5_latency = pd.Series(remove_outliers_iqr(data5_latency))\n",
    "\n",
    "## combine these different collections into a list    \n",
    "#data_to_plot_latency = [data1_latency,data2_latency,data3_latency,data4_latency,data5_latency]\n",
    "data_to_plot_latency = [data1_latency,data2_latency,data4_latency,data5_latency]\n",
    "\n",
    "avg1_latency = data1_latency.mean()\n",
    "avg2_latency = data2_latency.mean()\n",
    "#avg3_latency = data3_latency.mean()\n",
    "avg4_latency = data4_latency.mean()\n",
    "avg5_latency = data5_latency.mean()\n",
    "\n",
    "#means_latency = [avg1_latency, avg2_latency, avg3_latency, avg4_latency, avg5_latency]\n",
    "means_latency = [avg1_latency, avg2_latency, avg4_latency, avg5_latency]"
   ]
  },
  {
   "cell_type": "code",
   "execution_count": 7,
   "metadata": {},
   "outputs": [
    {
     "data": {
      "image/png": "[encoded data removed]",
      "text/plain": [
       "<Figure size 648x432 with 1 Axes>"
      ]
     },
     "metadata": {
      "needs_background": "light"
     },
     "output_type": "display_data"
    }
   ],
   "source": [
    "fig = plt.figure(1, figsize=(9, 6))\n",
    "\n",
    "# Create an axes instance\n",
    "ax = fig.add_subplot(111)\n",
    "\n",
    "ax.set_title(title_latency)\n",
    "ax.set_xlabel(xlabel)\n",
    "ax.set_ylabel(ylabel_latency)\n",
    "\n",
    "# Create the boxplot\n",
    "\n",
    "bp = ax.boxplot(data_to_plot_latency,labels=objects, patch_artist=True)\n",
    "\n",
    "## change outline color, fill color and linewidth of the boxes\n",
    "for box in bp['boxes']:\n",
    "    # change outline color\n",
    "    box.set( color=color_latency, linewidth=2)\n",
    "    # change fill color\n",
    "    box.set( facecolor = 'w' )\n",
    "    \n",
    "## change color and linewidth of the medians\n",
    "for median in bp['medians']:\n",
    "    median.set(color=\"k\", linewidth=2) \n",
    "    \n",
    "#fig.savefig(\"result_nodes_configuration_poa_latency_boxplot.svg\", format=\"svg\")"
   ]
  },
  {
   "cell_type": "markdown",
   "metadata": {},
   "source": [
    "## Throughput and Latency Combined"
   ]
  },
  {
   "cell_type": "code",
   "execution_count": 8,
   "metadata": {},
   "outputs": [
    {
     "data": {
      "image/png": "[encoded data removed]",
      "text/plain": [
       "<Figure size 432x288 with 2 Axes>"
      ]
     },
     "metadata": {
      "needs_background": "light"
     },
     "output_type": "display_data"
    }
   ],
   "source": [
    "fig = plt.figure()\n",
    "ax1 = fig.add_subplot(111)\n",
    "\n",
    "N = len(means_hashRate)\n",
    "ind = np.arange(N) # the x locations for the groups\n",
    "width = 0.35 # the width of the bars\n",
    "\n",
    "## the bars\n",
    "rects1 = ax1.bar(ind, means_tps, width, color=color_tps,alpha=0.75, label=\"Throughput\")\n",
    "ax1.set_ylabel(ylabel_tps_average)\n",
    "ax1.set_xlabel(xlabel)\n",
    "\n",
    "ax2 = ax1.twinx()\n",
    "rects2 = ax2.bar(ind+width, means_latency, width,color=color_latency,alpha=0.75, label=\"Latency\")\n",
    "ax2.set_ylabel(ylabel_latency_average)\n",
    "\n",
    "# axes and labels\n",
    "#ax1.set_xlim(-width,len(ind)+width)\n",
    "ax1.set_title(\"Throughput and Latency \\n against Node Configuration \\n(1 Node, PoA, period 1 sec, gasLimit * 8, n=\" + str(300) + \")\")\n",
    "ax1.set_xticks(ind + width / 2)\n",
    "ax1.set_xticklabels(objects)\n",
    "\n",
    "## add a legend\n",
    "ax1.legend(loc='upper center', bbox_to_anchor=(0.3, -0.2),\n",
    "          ncol=3, fancybox=True, shadow=True)\n",
    "\n",
    "ax2.legend(loc='upper center', bbox_to_anchor=(0.7, -0.2),\n",
    "          ncol=3, fancybox=True, shadow=True)\n",
    "\n",
    "autolabel_barchart(rects1,ax1)\n",
    "autolabel_barchart(rects2,ax2)\n",
    "\n",
    "fig.tight_layout()\n",
    "ax1.figure.savefig(\"result_nodes_configuration_poa_combined_barchart_1_node.svg\", format=\"svg\",bbox_inches='tight')\n",
    "plt.show()"
   ]
  },
  {
   "cell_type": "code",
   "execution_count": 9,
   "metadata": {},
   "outputs": [
    {
     "data": {
      "image/png": "[encoded data removed]",
      "text/plain": [
       "<Figure size 432x288 with 2 Axes>"
      ]
     },
     "metadata": {
      "needs_background": "light"
     },
     "output_type": "display_data"
    }
   ],
   "source": [
    "fig = plt.figure()\n",
    "\n",
    "## the data\n",
    "N = 4\n",
    "## necessary variables\n",
    "ind = np.arange(N)\n",
    "#print(ind)\n",
    "# Create an axes instance\n",
    "ax1 = fig.add_subplot(111)\n",
    "\n",
    "ax1.set_title(\"Throughput and Latency \\n against Node Configuration \\n (1 Node, PoA max performance, n=\" + str(sample_size) + \")\")\n",
    "#ax1.set_xlabel(xlabel)\n",
    "ax1.set_ylabel(\"Average Transactions per Second (TPS)\")\n",
    "\n",
    "# Create the boxplot\n",
    "bp = ax1.boxplot(data_to_plot_tps,labels=objects, widths=(0.25, 0.25, 0.25, 0.25), positions=ind+0.1, patch_artist=True, manage_xticks=True)\n",
    "\n",
    "ax2 = ax1.twinx()\n",
    "bp2 = ax2.boxplot(data_to_plot_latency,labels=objects, widths=(0.25, 0.25, 0.25, 0.25), positions=ind+0.4, patch_artist=True, manage_xticks=True)\n",
    "#ax1.set_xticks(ind + 0.5/2)\n",
    "ax2.set_ylabel(\"Average Transaction Latency [seconds]\")\n",
    "ax1.set_xticklabels(objects)\n",
    "\n",
    "#ax1.set_ylim(bottom=9.5, top=11.5)\n",
    "#ax2.set_ylim(bottom=45, top=57)\n",
    "\n",
    "## change outline color, fill color and linewidth of the boxes\n",
    "for box in bp['boxes']:\n",
    "    # change outline color\n",
    "    box.set( color=color_tps, linewidth=2)\n",
    "    # change fill color\n",
    "    box.set( facecolor = 'w' )\n",
    "    \n",
    "## change color and linewidth of the medians\n",
    "for median in bp['medians']:\n",
    "    median.set(color=\"k\", linewidth=2) \n",
    "    \n",
    "## change outline color, fill color and linewidth of the boxes\n",
    "for box in bp2['boxes']:\n",
    "    # change outline color\n",
    "    box.set( color=color_latency, linewidth=2)\n",
    "    # change fill color\n",
    "    box.set( facecolor = 'w' )\n",
    "    \n",
    "## change color and linewidth of the medians\n",
    "for median in bp2['medians']:\n",
    "    median.set(color=\"k\", linewidth=2) \n",
    "\n",
    "#fig.savefig(\"result_nodes_configuration_poa_combined_boxplot_1_node.svg\", format=\"svg\")"
   ]
  },
  {
   "cell_type": "markdown",
   "metadata": {},
   "source": [
    "# Scalability Calculations"
   ]
  },
  {
   "cell_type": "code",
   "execution_count": 16,
   "metadata": {},
   "outputs": [
    {
     "name": "stdout",
     "output_type": "stream",
     "text": [
      "\n",
      "Scalability of Throughput:\n",
      "large to xlarge: 31.0%\n",
      "xlarge to 2xlarge: 26.0%\n",
      "2xlarge to 4xlarge: 18.0%\n",
      "\n",
      "Scalability of Latency:\n",
      "large to xlarge: 1.0%\n",
      "xlarge to 2xlarge: 13.0%\n",
      "2xlarge to 4xlarge: 9.0%\n"
     ]
    }
   ],
   "source": [
    "def calculateScalabilityInPercent(x,y):\n",
    "    return str(round(abs(x-y)/x * 100,0))\n",
    "\n",
    "print(\"\\nScalability of Throughput:\")\n",
    "print(\"large to xlarge: \" + calculateScalabilityInPercent(avg1_tps,avg2_tps) + \"%\")\n",
    "print(\"xlarge to 2xlarge: \" + calculateScalabilityInPercent(avg2_tps,avg4_tps) + \"%\")\n",
    "print(\"2xlarge to 4xlarge: \" + calculateScalabilityInPercent(avg4_tps,avg5_tps) + \"%\")\n",
    "\n",
    "print(\"\\nScalability of Latency:\")\n",
    "print(\"large to xlarge: \" + calculateScalabilityInPercent(avg1_latency,avg2_latency) + \"%\")\n",
    "print(\"xlarge to 2xlarge: \" + calculateScalabilityInPercent(avg2_latency,avg4_latency) + \"%\")\n",
    "print(\"2xlarge to 4xlarge: \" + calculateScalabilityInPercent(avg4_latency,avg5_latency) + \"%\")"
   ]
  },
  {
   "cell_type": "markdown",
   "metadata": {},
   "source": [
    "# Network Communication Overhead Calculation"
   ]
  },
  {
   "cell_type": "code",
   "execution_count": 18,
   "metadata": {},
   "outputs": [
    {
     "name": "stdout",
     "output_type": "stream",
     "text": [
      "\n",
      "Network Communication Overhead for each instance-type:\n",
      "large: 23.0%\n",
      "xlarge: 8.0%\n",
      "2xlarge: 0.0%\n",
      "4xlarge: 1.0%\n"
     ]
    }
   ],
   "source": [
    "print(\"\\nNetwork Communication Overhead for each instance-type:\")\n",
    "print(\"large: \" + calculateScalabilityInPercent(float(75.3), avg1_tps) + \"%\")\n",
    "print(\"xlarge: \" +  calculateScalabilityInPercent(float(112.9), avg2_tps) + \"%\")\n",
    "print(\"2xlarge: \" + calculateScalabilityInPercent(float(153.0), avg4_tps) + \"%\")\n",
    "print(\"4xlarge: \" + calculateScalabilityInPercent(float(179.3), avg5_tps) + \"%\")"
   ]
  }
 ],
 "metadata": {
  "kernelspec": {
   "display_name": "Python 3",
   "language": "python",
   "name": "python3"
  },
  "language_info": {
   "codemirror_mode": {
    "name": "ipython",
    "version": 3
   },
   "file_extension": ".py",
   "mimetype": "text/x-python",
   "name": "python",
   "nbconvert_exporter": "python",
   "pygments_lexer": "ipython3",
   "version": "3.7.0"
  }
 },
 "nbformat": 4,
 "nbformat_minor": 2
}
