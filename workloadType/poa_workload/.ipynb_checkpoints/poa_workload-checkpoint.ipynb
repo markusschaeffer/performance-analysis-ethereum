{
 "cells": [
  {
   "cell_type": "markdown",
   "metadata": {},
   "source": [
    "# Helper Methods"
   ]
  },
  {
   "cell_type": "code",
   "execution_count": 1,
   "metadata": {},
   "outputs": [],
   "source": [
    "import numpy as np\n",
    "\n",
    "# outlier removal method: IQR\n",
    "# returns list without outliers\n",
    "# http://colingorrie.github.io/outlier-detection.html\n",
    "# https://machinelearningmastery.com/how-to-use-statistics-to-identify-outliers-in-data/\n",
    "def remove_outliers_iqr(data):\n",
    "    quartile_1, quartile_3 = np.percentile(data, [25, 75])\n",
    "    iqr = quartile_3 - quartile_1\n",
    "    cut_off = (iqr * 1.5)\n",
    "    lower_bound = quartile_1 - cut_off\n",
    "    upper_bound = quartile_3 + cut_off\n",
    "    # identify outliers\n",
    "    outliers = [x for x in data if x < lower_bound or x > upper_bound]\n",
    "    print('Identified outliers: %d' % len(outliers))\n",
    "    # remove outliers\n",
    "    outliers_removed = [x for x in data if x >= lower_bound and x <= upper_bound]\n",
    "    print('Non-outlier observations: %d' % len(outliers_removed))\n",
    "    return outliers_removed\n",
    "\n",
    "# annotates plt with y values\n",
    "def plot_annotate(plt,xvalues,yvalues):\n",
    "    for i,j in zip(xvalues, yvalues):\n",
    "        plt.annotate(str(np.round(j,1)),xy=(i-0.15,j))\n",
    "        \n",
    "def autolabel_barchart(rects,axis):\n",
    "    \"\"\"\n",
    "    Attach a text label above each bar displaying its height\n",
    "    \"\"\"\n",
    "    for rect in rects:\n",
    "        height = rect.get_height()\n",
    "        axis.text(rect.get_x() + rect.get_width()/2., 0.90*height,'%.1f' % round(float(height),1),ha='center', va='bottom')\n",
    "    "
   ]
  },
  {
   "cell_type": "markdown",
   "metadata": {},
   "source": [
    "# PyMongo Query\n",
    "\n",
    "db = \"test\"\n",
    "collection = \"benchmarklogs\""
   ]
  },
  {
   "cell_type": "code",
   "execution_count": 2,
   "metadata": {},
   "outputs": [],
   "source": [
    "from pymongo import MongoClient\n",
    "client = MongoClient()\n",
    "\n",
    "db = client['test']\n",
    "collection = db['benchmarklogs']"
   ]
  },
  {
   "cell_type": "markdown",
   "metadata": {},
   "source": [
    "# PyMongo Query ->Pandas DataFrame"
   ]
  },
  {
   "cell_type": "code",
   "execution_count": 3,
   "metadata": {},
   "outputs": [
    {
     "name": "stdout",
     "output_type": "stream",
     "text": [
      "Number of rows:22\n"
     ]
    }
   ],
   "source": [
    "import pandas as pd\n",
    "\n",
    "query = {\"$and\":[ {\"$or\":[ {\"scenario\":\"account\"}, {\"scenario\":\"ballot\"}]}, \n",
    "        {\"usedGenesisJson\":\"genesis_poa_default.json\"}, {\"successfulTransactions\": 1000}, {\"instanceType\":'c5.xlarge'}, {\"nodes\":5}]}\n",
    "\n",
    "# query = {}\n",
    "\n",
    "# Make a query to the specific DB and Collection\n",
    "cursor = collection.find(query)\n",
    "\n",
    "# Expand the cursor and construct the DataFrame\n",
    "df = pd.DataFrame(list(cursor))\n",
    "\n",
    "#display(df.head(200))\n",
    "\n",
    "sample_size = len(df.index)\n",
    "print(\"Number of rows:\" + str(sample_size))"
   ]
  },
  {
   "cell_type": "markdown",
   "metadata": {},
   "source": [
    "# Pandas DataFrame -> Plot\n",
    "## Throughput"
   ]
  },
  {
   "cell_type": "code",
   "execution_count": 4,
   "metadata": {},
   "outputs": [
    {
     "name": "stdout",
     "output_type": "stream",
     "text": [
      "Identified outliers: 3\n",
      "Non-outlier observations: 9\n",
      "Identified outliers: 1\n",
      "Non-outlier observations: 9\n",
      "9.676705559938036\n",
      "11.311640128912074\n"
     ]
    }
   ],
   "source": [
    "import matplotlib.pyplot as plt\n",
    "\n",
    "data_tps = df[['txPerSecond','scenario']]\n",
    "\n",
    "title_tps = \"Throughput against Workload Type (PoA, n=\" + str(sample_size) + \")\"\n",
    "xlabel = \"Workload Type\"\n",
    "ylabel = \"Transactions Per Second (TPS)\"\n",
    "\n",
    "objects = list([\"Account\",\"Ballot\"])\n",
    "\n",
    "data1_tps = data_tps.loc[df['scenario'] == \"account\"].iloc[:,0]\n",
    "data2_tps = data_tps.loc[df['scenario'] == \"ballot\"].iloc[:,0]\n",
    "\n",
    "# REMOVE OUTLIERS\n",
    "data1_tps = pd.Series(remove_outliers_iqr(data1_tps))\n",
    "data2_tps = pd.Series(remove_outliers_iqr(data2_tps))\n",
    "\n",
    "## combine these different collections into a list    \n",
    "data_to_plot_tps = [data1_tps, data2_tps]\n",
    "\n",
    "avg1_tps = data1_tps.mean()\n",
    "avg2_tps = data2_tps.mean()\n",
    "\n",
    "means_tps = [avg1_tps, avg2_tps]\n",
    "\n",
    "print(avg1_tps)\n",
    "print(avg2_tps)"
   ]
  },
  {
   "cell_type": "code",
   "execution_count": 5,
   "metadata": {},
   "outputs": [
    {
     "data": {
      "image/png": "[encoded data removed]",
      "text/plain": [
       "<Figure size 648x432 with 1 Axes>"
      ]
     },
     "metadata": {
      "needs_background": "light"
     },
     "output_type": "display_data"
    }
   ],
   "source": [
    "color_latency=\"#ff7f0e\"\n",
    "color_tps=\"#1f77b4\"\n",
    "\n",
    "fig = plt.figure(1, figsize=(9, 6))\n",
    "\n",
    "# Create an axes instance\n",
    "ax = fig.add_subplot(111)\n",
    "\n",
    "ax.set_title(title_tps)\n",
    "ax.set_xlabel(xlabel)\n",
    "ax.set_ylabel(ylabel)\n",
    "\n",
    "# Create the boxplot\n",
    "bp = ax.boxplot(data_to_plot_tps,labels=objects, patch_artist=True)\n",
    "\n",
    "## change outline color, fill color and linewidth of the boxes\n",
    "for box in bp['boxes']:\n",
    "    # change outline color\n",
    "    box.set( color=color_tps, linewidth=2)\n",
    "    # change fill color\n",
    "    box.set( facecolor = 'w' )\n",
    "    \n",
    "## change color and linewidth of the medians\n",
    "for median in bp['medians']:\n",
    "    median.set(color=\"k\", linewidth=2)\n",
    "\n",
    "fig.savefig(\"result_workload_poa_throughput_boxplot.svg\", format=\"svg\")"
   ]
  },
  {
   "cell_type": "markdown",
   "metadata": {},
   "source": [
    "## Latency"
   ]
  },
  {
   "cell_type": "code",
   "execution_count": 6,
   "metadata": {},
   "outputs": [
    {
     "name": "stdout",
     "output_type": "stream",
     "text": [
      "Identified outliers: 0\n",
      "Non-outlier observations: 12\n",
      "Identified outliers: 1\n",
      "Non-outlier observations: 9\n",
      "53.658872583333306\n",
      "47.994651888888875\n"
     ]
    }
   ],
   "source": [
    "import matplotlib.pyplot as plt\n",
    "\n",
    "data_latency = df[['averageDelay','scenario']]\n",
    "\n",
    "title_latency = \"Latency against Workload Type (PoA, n=\" + str(sample_size) + \")\"\n",
    "xlabel = \"Workload Type\"\n",
    "ylabel = \"Average Transaction Latency [seconds]\"\n",
    "\n",
    "objects = list([\"Account\",\"Ballot\"])\n",
    "\n",
    "data1_latency = data_latency.loc[df['scenario'] == \"account\"].iloc[:,0]\n",
    "data2_latency = data_latency.loc[df['scenario'] == \"ballot\"].iloc[:,0]\n",
    "\n",
    "# REMOVE OUTLIERS\n",
    "data1_latency = pd.Series(remove_outliers_iqr(data1_latency))\n",
    "data2_latency = pd.Series(remove_outliers_iqr(data2_latency))\n",
    "\n",
    "## combine these different collections into a list    \n",
    "data_to_plot_latency = [data1_latency,data2_latency]\n",
    "\n",
    "avg1_latency = data1_latency.mean()\n",
    "avg2_latency = data2_latency.mean()\n",
    "\n",
    "means_latency = [avg1_latency, avg2_latency]\n",
    "\n",
    "print(avg1_latency)\n",
    "print(avg2_latency)"
   ]
  },
  {
   "cell_type": "code",
   "execution_count": 7,
   "metadata": {},
   "outputs": [
    {
     "data": {
      "image/png": "[encoded data removed]",
      "text/plain": [
       "<Figure size 648x432 with 1 Axes>"
      ]
     },
     "metadata": {
      "needs_background": "light"
     },
     "output_type": "display_data"
    }
   ],
   "source": [
    "fig = plt.figure(1, figsize=(9, 6))\n",
    "\n",
    "# Create an axes instance\n",
    "ax = fig.add_subplot(111)\n",
    "\n",
    "ax.set_title(title_latency)\n",
    "ax.set_xlabel(xlabel)\n",
    "ax.set_ylabel(ylabel)\n",
    "\n",
    "# Create the boxplot\n",
    "bp = ax.boxplot(data_to_plot_latency,labels=objects, patch_artist=True)\n",
    "\n",
    "## change outline color, fill color and linewidth of the boxes\n",
    "for box in bp['boxes']:\n",
    "    # change outline color\n",
    "    box.set( color=color_latency, linewidth=2)\n",
    "    # change fill color\n",
    "    box.set( facecolor = 'w' )\n",
    "    \n",
    "## change color and linewidth of the medians\n",
    "for median in bp['medians']:\n",
    "    median.set(color=\"k\", linewidth=2) \n",
    "    \n",
    "fig.savefig(\"result_workload_poa_latency_boxplot.svg\", format=\"svg\")"
   ]
  },
  {
   "cell_type": "markdown",
   "metadata": {},
   "source": [
    "## Throughput and Latency Combined"
   ]
  },
  {
   "cell_type": "code",
   "execution_count": 8,
   "metadata": {},
   "outputs": [
    {
     "data": {
      "image/png": "[encoded data removed]",
      "text/plain": [
       "<Figure size 432x288 with 2 Axes>"
      ]
     },
     "metadata": {
      "needs_background": "light"
     },
     "output_type": "display_data"
    }
   ],
   "source": [
    "df1 = pd.DataFrame({'Average Throughput [TPS]':means_tps})\n",
    "df2 = pd.DataFrame({'Average Latency [seconds]':means_latency})\n",
    "\n",
    "fig = plt.figure()\n",
    "ax1 = fig.add_subplot(111)\n",
    "\n",
    "## the data\n",
    "N = 2\n",
    "## necessary variables\n",
    "ind = np.arange(N)                # the x locations for the groups\n",
    "width = 0.25                      # the width of the bars\n",
    "\n",
    "## the bars\n",
    "rects1 = ax1.bar(ind, means_tps, width, color=color_tps, alpha=0.75, label=\"Throughput\")\n",
    "ax1.set_ylabel(\"Average Transactions Per Second (TPS)\")\n",
    "ax1.set_xlabel(xlabel)\n",
    "\n",
    "ax2 = ax1.twinx()\n",
    "rects2 = ax2.bar(ind+width, means_latency, width,color=color_latency, alpha=0.75, label=\"Latency\")\n",
    "ax2.set_ylabel(\"Average Transaction Latency [seconds]\")\n",
    "\n",
    "# axes and labels\n",
    "#ax1.set_xlim(-width,len(ind)+width)\n",
    "ax1.set_title(\"Throughput and Latency \\n against Workload Type (PoA, n=\" + str(sample_size) + \")\")\n",
    "ax1.set_xticks(ind + width / 2)\n",
    "ax1.set_xticklabels(('Account', 'Ballot'))\n",
    "\n",
    "## add a legend\n",
    "#ax1.legend((rects1[0], rects2[0]), ('TPS', 'Latency') )\n",
    "\n",
    "ax1.legend(loc='upper center', bbox_to_anchor=(0.3, -0.2),\n",
    "          ncol=3, fancybox=True, shadow=True)\n",
    "\n",
    "ax2.legend(loc='upper center', bbox_to_anchor=(0.7, -0.2),\n",
    "          ncol=3, fancybox=True, shadow=True)\n",
    "\n",
    "autolabel_barchart(rects1,ax1)\n",
    "autolabel_barchart(rects2,ax2)\n",
    "\n",
    "#ax1.set_ylim(ymax=100)\n",
    "#ax2.set_ylim(ymax=10)\n",
    "\n",
    "fig.tight_layout()\n",
    "ax1.figure.savefig(\"result_workload_poa_combined_barchart.svg\", format=\"svg\",bbox_inches='tight')\n",
    "\n",
    "plt.show()"
   ]
  },
  {
   "cell_type": "code",
   "execution_count": 1,
   "metadata": {},
   "outputs": [
    {
     "ename": "NameError",
     "evalue": "name 'plt' is not defined",
     "output_type": "error",
     "traceback": [
      "\u001b[0;31m---------------------------------------------------------------------------\u001b[0m",
      "\u001b[0;31mNameError\u001b[0m                                 Traceback (most recent call last)",
      "\u001b[0;32m<ipython-input-1-32d3c94727a8>\u001b[0m in \u001b[0;36m<module>\u001b[0;34m()\u001b[0m\n\u001b[0;32m----> 1\u001b[0;31m \u001b[0mfig\u001b[0m \u001b[0;34m=\u001b[0m \u001b[0mplt\u001b[0m\u001b[0;34m.\u001b[0m\u001b[0mfigure\u001b[0m\u001b[0;34m(\u001b[0m\u001b[0;34m)\u001b[0m\u001b[0;34m\u001b[0m\u001b[0m\n\u001b[0m\u001b[1;32m      2\u001b[0m \u001b[0;34m\u001b[0m\u001b[0m\n\u001b[1;32m      3\u001b[0m \u001b[0;31m## the data\u001b[0m\u001b[0;34m\u001b[0m\u001b[0;34m\u001b[0m\u001b[0m\n\u001b[1;32m      4\u001b[0m \u001b[0mN\u001b[0m \u001b[0;34m=\u001b[0m \u001b[0;36m2\u001b[0m\u001b[0;34m\u001b[0m\u001b[0m\n\u001b[1;32m      5\u001b[0m \u001b[0;31m## necessary variables\u001b[0m\u001b[0;34m\u001b[0m\u001b[0;34m\u001b[0m\u001b[0m\n",
      "\u001b[0;31mNameError\u001b[0m: name 'plt' is not defined"
     ]
    }
   ],
   "source": [
    "fig = plt.figure()\n",
    "\n",
    "## the data\n",
    "N = 2\n",
    "## necessary variables\n",
    "ind = np.arange(N)                # the x locations for the groups\n",
    "#print(ind)\n",
    "# Create an axes instance\n",
    "ax1 = fig.add_subplot(111)\n",
    "\n",
    "ax1.set_title(\"Throughput and Latency against Workload Type\\n (5 nodes, PoA, period 15 sec, gasLimit * 1, n=\" + str(20) + \")\")\n",
    "ax1.set_xlabel(xlabel)\n",
    "ax1.set_ylabel(\"Average Transactions per Second (TPS)\")\n",
    "\n",
    "#print(objects)\n",
    "#print(means_tps)\n",
    "\n",
    "# Create the boxplot\n",
    "bp = ax1.boxplot(data_to_plot_tps,labels=objects, positions=ind+0.1, patch_artist=True, manage_xticks=True)\n",
    "\n",
    "ax2 = ax1.twinx()\n",
    "bp2 = ax2.boxplot(data_to_plot_latency,labels=objects, positions=ind+0.3, patch_artist=True, manage_xticks=True)\n",
    "#ax1.set_xticks(ind + 0.5/2)\n",
    "ax2.set_ylabel(\"Average Transaction Latency [seconds]\")\n",
    "ax1.set_xticklabels(('Account', 'Ballot'))\n",
    "\n",
    "ax1.set_ylim(bottom=9.5, top=11.5)\n",
    "ax2.set_ylim(bottom=45, top=57)\n",
    "\n",
    "## change outline color, fill color and linewidth of the boxes\n",
    "for box in bp['boxes']:\n",
    "    # change outline color\n",
    "    box.set( color=color_tps, linewidth=2)\n",
    "    # change fill color\n",
    "    box.set( facecolor = 'w' )\n",
    "    \n",
    "## change color and linewidth of the medians\n",
    "for median in bp['medians']:\n",
    "    median.set(color=\"k\", linewidth=2) \n",
    "    \n",
    "## change outline color, fill color and linewidth of the boxes\n",
    "for box in bp2['boxes']:\n",
    "    # change outline color\n",
    "    box.set( color=color_latency, linewidth=2)\n",
    "    # change fill color\n",
    "    box.set( facecolor = 'w' )\n",
    "    \n",
    "## change color and linewidth of the medians\n",
    "for median in bp2['medians']:\n",
    "    median.set(color=\"k\", linewidth=2) \n",
    "\n",
    "plt.figtext(0.3575, 0.55, 'Med TPS:\\n' + str(round(data1_tps.median(),2)), color='black')\n",
    "plt.figtext(0.3575, 0.45, 'Med Latency:\\n' + str(round(data1_latency.median(),2)), color='black')\n",
    "\n",
    "plt.figtext(0.75, 0.55, 'Med TPS:\\n' + str(round(data2_tps.median(),2)), color='black')\n",
    "plt.figtext(0.75, 0.45, 'Med Latency:\\n' + str(round(data2_latency.median(),2)), color='black')\n",
    "\n",
    "ax1.legend([bp[\"boxes\"][0]],[\"Throughput\"],bbox_to_anchor=(0.3, -0.15),fancybox=True,shadow=True,loc=\"upper center\")\n",
    "ax2.legend([bp2[\"boxes\"][0]],[\"Latency\"],bbox_to_anchor=(0.7, -0.15),fancybox=True,shadow=True,loc=\"upper center\")\n",
    "\n",
    "fig.savefig(\"result_workload_poa_combined_boxplot.svg\", format=\"svg\")"
   ]
  },
  {
   "cell_type": "code",
   "execution_count": 10,
   "metadata": {},
   "outputs": [
    {
     "name": "stdout",
     "output_type": "stream",
     "text": [
      "\n",
      "Difference in Average TPS\n",
      "16.89557007648074%\n",
      "\n",
      "Difference in Average Latency\n",
      "10.55598155859086%\n"
     ]
    }
   ],
   "source": [
    "print(\"\\nDifference in Average TPS\")\n",
    "print(str((avg2_tps-avg1_tps)/avg1_tps * 100) + \"%\")\n",
    "\n",
    "print(\"\\nDifference in Average Latency\")\n",
    "print(str((avg1_latency-avg2_latency)/avg1_latency * 100) + \"%\")"
   ]
  },
  {
   "cell_type": "code",
   "execution_count": 11,
   "metadata": {},
   "outputs": [
    {
     "name": "stdout",
     "output_type": "stream",
     "text": [
      "p = 0.229559\n",
      "H0 valid = x COMES from a normal distribution\n"
     ]
    },
    {
     "name": "stderr",
     "output_type": "stream",
     "text": [
      "/home/markus/anaconda3/lib/python3.7/site-packages/scipy/stats/stats.py:1394: UserWarning: kurtosistest only valid for n>=20 ... continuing anyway, n=9\n",
      "  \"anyway, n=%i\" % int(n))\n"
     ]
    }
   ],
   "source": [
    "#https://docs.scipy.org/doc/scipy/reference/generated/scipy.stats.ttest_ind.html\n",
    "\n",
    "from scipy import stats\n",
    "\n",
    "k2, p = stats.normaltest(data1_tps)\n",
    "alpha = 0.05\n",
    "#H0 = data comes from a normal distribution\n",
    "#if p values is less than alpha it is unlikely that the data comes from a normal distribution\n",
    "print(\"p = {:g}\".format(p))\n",
    "if p < alpha:\n",
    "    print(\"H0 rejected = x DOES NOT COME from a normal distribution\")\n",
    "else:\n",
    "    print(\"H0 valid = x COMES from a normal distribution\")\n",
    "    "
   ]
  },
  {
   "cell_type": "code",
   "execution_count": 12,
   "metadata": {},
   "outputs": [
    {
     "name": "stdout",
     "output_type": "stream",
     "text": [
      "p = 5.8057e-21\n",
      "H0 is rejected = there IS a significant difference in Throughput\n"
     ]
    }
   ],
   "source": [
    "t,p = stats.ttest_ind(data1_tps,data2_tps,equal_var=False)\n",
    "\n",
    "print(\"p = {:g}\".format(p))\n",
    "if(p<alpha):\n",
    "    print(\"H0 is rejected = there IS a significant difference in Throughput\")\n",
    "else:\n",
    "    print(\"H0 valid = there is NO significant difference in Throughput\")\n"
   ]
  },
  {
   "cell_type": "code",
   "execution_count": 13,
   "metadata": {},
   "outputs": [
    {
     "name": "stdout",
     "output_type": "stream",
     "text": [
      "p = 1.68347e-06\n",
      "H0 is rejected = there IS a significant difference in Latency\n"
     ]
    }
   ],
   "source": [
    "t,p = stats.ttest_ind(data1_latency,data2_latency,equal_var=False)\n",
    "\n",
    "print(\"p = {:g}\".format(p))\n",
    "if(p<alpha):\n",
    "    print(\"H0 is rejected = there IS a significant difference in Latency\")\n",
    "else:\n",
    "    print(\"H0 valid = there is NO significant difference in Latency\")\n"
   ]
  }
 ],
 "metadata": {
  "kernelspec": {
   "display_name": "Python 3",
   "language": "python",
   "name": "python3"
  },
  "language_info": {
   "codemirror_mode": {
    "name": "ipython",
    "version": 3
   },
   "file_extension": ".py",
   "mimetype": "text/x-python",
   "name": "python",
   "nbconvert_exporter": "python",
   "pygments_lexer": "ipython3",
   "version": "3.7.0"
  }
 },
 "nbformat": 4,
 "nbformat_minor": 2
}
