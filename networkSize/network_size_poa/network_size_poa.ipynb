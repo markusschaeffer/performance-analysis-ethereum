{
 "cells": [
  {
   "cell_type": "markdown",
   "metadata": {},
   "source": [
    "# Helper Methods"
   ]
  },
  {
   "cell_type": "code",
   "execution_count": 1,
   "metadata": {},
   "outputs": [],
   "source": [
    "import numpy as np\n",
    "\n",
    "# outlier removal method: IQR\n",
    "# returns list without outliers\n",
    "# http://colingorrie.github.io/outlier-detection.html\n",
    "# https://machinelearningmastery.com/how-to-use-statistics-to-identify-outliers-in-data/\n",
    "def remove_outliers_iqr(data):\n",
    "    quartile_1, quartile_3 = np.percentile(data, [25, 75])\n",
    "    iqr = quartile_3 - quartile_1\n",
    "    cut_off = (iqr * 1.5)\n",
    "    lower_bound = quartile_1 - cut_off\n",
    "    upper_bound = quartile_3 + cut_off\n",
    "    # identify outliers\n",
    "    outliers = [x for x in data if x < lower_bound or x > upper_bound]\n",
    "    print('Identified outliers: %d' % len(outliers))\n",
    "    # remove outliers\n",
    "    outliers_removed = [x for x in data if x >= lower_bound and x <= upper_bound]\n",
    "    print('Non-outlier observations: %d' % len(outliers_removed))\n",
    "    return outliers_removed\n",
    "\n",
    "# annotates plt with y values\n",
    "def plot_annotate(plt,xvalues,yvalues):\n",
    "    for i,j in zip(xvalues, yvalues):\n",
    "        plt.annotate(str(np.round(j,1)),xy=(i-0.15,j))\n",
    "  \n",
    "def autolabel_barchart(rects,axis):\n",
    "    \"\"\"\n",
    "    Attach a text label above each bar displaying its height\n",
    "    \"\"\"\n",
    "    for rect in rects:\n",
    "        height = rect.get_height()\n",
    "        axis.text(rect.get_x() + rect.get_width()/2., 0.9*height,'%.1f' % round(float(height),1),ha='center', va='bottom')"
   ]
  },
  {
   "cell_type": "markdown",
   "metadata": {},
   "source": [
    "# PyMongo Query\n",
    "\n",
    "db = \"test\"\n",
    "collection = \"benchmarklogs\""
   ]
  },
  {
   "cell_type": "code",
   "execution_count": 2,
   "metadata": {},
   "outputs": [],
   "source": [
    "from pymongo import MongoClient\n",
    "client = MongoClient()\n",
    "\n",
    "db = client['test']\n",
    "collection = db['benchmarklogs']"
   ]
  },
  {
   "cell_type": "markdown",
   "metadata": {},
   "source": [
    "# PyMongo Query ->Pandas DataFrame"
   ]
  },
  {
   "cell_type": "code",
   "execution_count": 3,
   "metadata": {},
   "outputs": [
    {
     "name": "stdout",
     "output_type": "stream",
     "text": [
      "Number of rows:24\n"
     ]
    }
   ],
   "source": [
    "import pandas as pd\n",
    "\n",
    "query = {\"$and\":[ {\"$or\":[{\"nodes\":1}, {\"nodes\":5}, {\"nodes\":10}, {\"nodes\":15}, {\"nodes\":20}]}, \n",
    "        {\"usedGenesisJson\":\"genesis_poa_default.json\"}, {\"instanceType\":\"t2.xlarge\"}, {\"maxTransactions\": 1000}, {\"successfulTransactions\":1000}, {\"scenario\":\"account\"}]}\n",
    "\n",
    "# query = {}\n",
    "\n",
    "# Make a query to the specific DB and Collection\n",
    "cursor = collection.find(query)\n",
    "\n",
    "# Expand the cursor and construct the DataFrame\n",
    "df = pd.DataFrame(list(cursor))\n",
    "\n",
    "#display(df.head(200))\n",
    "\n",
    "sample_size = len(df.index)\n",
    "print(\"Number of rows:\" + str(sample_size))"
   ]
  },
  {
   "cell_type": "markdown",
   "metadata": {},
   "source": [
    "# Pandas DataFrame -> Plot\n",
    "## Throughput"
   ]
  },
  {
   "cell_type": "code",
   "execution_count": 4,
   "metadata": {},
   "outputs": [
    {
     "name": "stdout",
     "output_type": "stream",
     "text": [
      "9.746955849225127\n",
      "9.475397571191772\n",
      "9.7853384481973\n",
      "9.33279477992481\n",
      "9.915593876548105\n"
     ]
    }
   ],
   "source": [
    "import matplotlib.pyplot as plt\n",
    "\n",
    "data_tps = df[['txPerSecond','nodes']]\n",
    "\n",
    "title_tps = \"Throughput against Network Size (PoA, n=\" + str(sample_size) + \")\"\n",
    "xlabel = \"Network Size\"\n",
    "ylabel_tps = \"Transactions Per Second (TPS)\"\n",
    "ylabel_tps_average = \"Average Transactions Per Second (TPS)\"\n",
    "\n",
    "objects = list([1,5,10,15,20])\n",
    "xvalues = [1,5,10,15,20]\n",
    "\n",
    "data1_tps = data_tps.loc[df['nodes'] == 1].iloc[:,0]\n",
    "data2_tps = data_tps.loc[df['nodes'] == 5].iloc[:,0]\n",
    "data3_tps = data_tps.loc[df['nodes'] == 10].iloc[:,0]\n",
    "data4_tps = data_tps.loc[df['nodes'] == 15].iloc[:,0]\n",
    "data5_tps = data_tps.loc[df['nodes'] == 20].iloc[:,0]\n",
    "\n",
    "# REMOVE OUTLIERS\n",
    "#data1_tps = pd.Series(remove_outliers_iqr(data1_tps))\n",
    "#data2_tps = pd.Series(remove_outliers_iqr(data2_tps))\n",
    "#data3_tps = pd.Series(remove_outliers_iqr(data3_tps))\n",
    "#data4_tps = pd.Series(remove_outliers_iqr(data4_tps))\n",
    "#data5_tps = pd.Series(remove_outliers_iqr(data5_tps))\n",
    "\n",
    "## combine these different collections into a list    \n",
    "data_to_plot_tps = [data1_tps,data2_tps,data3_tps,data4_tps,data5_tps]\n",
    "\n",
    "avg1_tps = data1_tps.mean()\n",
    "avg2_tps = data2_tps.mean()\n",
    "avg3_tps = data3_tps.mean()\n",
    "avg4_tps = data4_tps.mean()\n",
    "avg5_tps = data5_tps.mean()\n",
    "\n",
    "means_tps = [avg1_tps, avg2_tps, avg3_tps, avg4_tps, avg5_tps]\n",
    "\n",
    "print(avg1_tps)\n",
    "print(avg2_tps)\n",
    "print(avg3_tps)\n",
    "print(avg4_tps)\n",
    "print(avg5_tps)"
   ]
  },
  {
   "cell_type": "code",
   "execution_count": 5,
   "metadata": {},
   "outputs": [
    {
     "data": {
      "image/png": "[encoded data removed]",
      "text/plain": [
       "<Figure size 648x432 with 1 Axes>"
      ]
     },
     "metadata": {
      "needs_background": "light"
     },
     "output_type": "display_data"
    }
   ],
   "source": [
    "color_latency=\"#ff7f0e\"\n",
    "color_tps=\"#1f77b4\"\n",
    "\n",
    "fig = plt.figure(1, figsize=(9, 6))\n",
    "\n",
    "# Create an axes instance\n",
    "ax = fig.add_subplot(111)\n",
    "\n",
    "ax.set_title(title_tps)\n",
    "ax.set_xlabel(xlabel)\n",
    "ax.set_ylabel(ylabel_tps)\n",
    "\n",
    "# Create the boxplot\n",
    "bp = ax.boxplot(data_to_plot_tps,labels=objects, patch_artist=True)\n",
    "\n",
    "## change outline color, fill color and linewidth of the boxes\n",
    "for box in bp['boxes']:\n",
    "    # change outline color\n",
    "    box.set( color=color_tps, linewidth=2)\n",
    "    # change fill color\n",
    "    box.set( facecolor = 'w' )\n",
    "    \n",
    "## change color and linewidth of the medians\n",
    "for median in bp['medians']:\n",
    "    median.set(color=\"k\", linewidth=2) \n",
    "\n",
    "fig.savefig(\"result_network_size_poa_20nodes_t2xlarge_throughput_boxplot.svg\", format=\"svg\")"
   ]
  },
  {
   "cell_type": "code",
   "execution_count": 6,
   "metadata": {},
   "outputs": [
    {
     "data": {
      "image/png": "[encoded data removed]",
      "text/plain": [
       "<Figure size 432x288 with 1 Axes>"
      ]
     },
     "metadata": {
      "needs_background": "light"
     },
     "output_type": "display_data"
    }
   ],
   "source": [
    "fig = plt.figure()\n",
    "ax1 = fig.add_subplot(111)\n",
    "\n",
    "N = len(means_tps)\n",
    "ind = np.arange(N) # the x locations for the groups\n",
    "\n",
    "rects1 = ax1.bar(ind, means_tps, alpha=0.75, color=color_tps)\n",
    "ax1.set_title(title_tps)\n",
    "ax1.set_xlabel(xlabel)\n",
    "ax1.set_ylabel(ylabel_tps_average)\n",
    "\n",
    "ax1.set_xticks(ind)\n",
    "ax1.set_xticklabels(objects)\n",
    "\n",
    "autolabel_barchart(rects1,ax1)\n",
    "fig.tight_layout()\n",
    "#fig.savefig(\"result_network_size_poa_throughput_barchart.svg\", format=\"svg\")\n",
    "plt.show()"
   ]
  },
  {
   "cell_type": "markdown",
   "metadata": {},
   "source": [
    "## Latency"
   ]
  },
  {
   "cell_type": "code",
   "execution_count": 7,
   "metadata": {},
   "outputs": [
    {
     "name": "stdout",
     "output_type": "stream",
     "text": [
      "56.51685060000003\n",
      "58.03173599999999\n",
      "50.935909799999955\n",
      "56.55788539999999\n",
      "53.03858679999998\n"
     ]
    }
   ],
   "source": [
    "import matplotlib.pyplot as plt\n",
    "\n",
    "data_latency = df[['averageDelay','nodes']]\n",
    "\n",
    "title_latency = \"Latency against Network Size (PoA, n=\" + str(sample_size) + \")\"\n",
    "xlabel = \"Network Size\"\n",
    "ylabel_latency = \"Transaction Latency [seconds]\"\n",
    "ylabel_latency_average = \"Average Transaction Latency [seconds]\"\n",
    "\n",
    "data1_latency = data_latency.loc[df['nodes'] == 1].iloc[:,0]\n",
    "data2_latency = data_latency.loc[df['nodes'] == 5].iloc[:,0]\n",
    "data3_latency = data_latency.loc[df['nodes'] == 10].iloc[:,0]\n",
    "data4_latency = data_latency.loc[df['nodes'] == 15].iloc[:,0]\n",
    "data5_latency = data_latency.loc[df['nodes'] == 20].iloc[:,0]\n",
    "\n",
    "# REMOVE OUTLIERS\n",
    "#data1_latency = pd.Series(remove_outliers_iqr(data1_latency))\n",
    "#data2_latency = pd.Series(remove_outliers_iqr(data2_latency))\n",
    "#data3_latency = pd.Series(remove_outliers_iqr(data3_latency))\n",
    "#data4_latency = pd.Series(remove_outliers_iqr(data4_latency))\n",
    "#data5_latency = pd.Series(remove_outliers_iqr(data5_latency))\n",
    "\n",
    "## combine these different collections into a list    \n",
    "data_to_plot_latency = [data1_latency,data2_latency,data3_latency,data4_latency,data5_latency]\n",
    "\n",
    "avg1_latency = data1_latency.mean()\n",
    "avg2_latency = data2_latency.mean()\n",
    "avg3_latency = data3_latency.mean()\n",
    "avg4_latency = data4_latency.mean()\n",
    "avg5_latency = data5_latency.mean()\n",
    "\n",
    "means_latency = [avg1_latency, avg2_latency, avg3_latency, avg4_latency, avg5_latency]\n",
    "\n",
    "print(avg1_latency)\n",
    "print(avg2_latency)\n",
    "print(avg3_latency)\n",
    "print(avg4_latency)\n",
    "print(avg5_latency)"
   ]
  },
  {
   "cell_type": "code",
   "execution_count": 8,
   "metadata": {},
   "outputs": [
    {
     "data": {
      "image/png": "[encoded data removed]",
      "text/plain": [
       "<Figure size 648x432 with 1 Axes>"
      ]
     },
     "metadata": {
      "needs_background": "light"
     },
     "output_type": "display_data"
    }
   ],
   "source": [
    "fig = plt.figure(1, figsize=(9, 6))\n",
    "\n",
    "# Create an axes instance\n",
    "ax = fig.add_subplot(111)\n",
    "\n",
    "ax.set_title(title_latency)\n",
    "ax.set_xlabel(xlabel)\n",
    "ax.set_ylabel(ylabel_latency)\n",
    "\n",
    "# Create the boxplot\n",
    "bp = ax.boxplot(data_to_plot_latency,labels=objects, patch_artist=True)\n",
    "\n",
    "## change outline color, fill color and linewidth of the boxes\n",
    "for box in bp['boxes']:\n",
    "    # change outline color\n",
    "    box.set( color=color_latency, linewidth=2)\n",
    "    # change fill color\n",
    "    box.set( facecolor = 'w' )\n",
    "    \n",
    "## change color and linewidth of the medians\n",
    "for median in bp['medians']:\n",
    "    median.set(color=\"k\", linewidth=2) \n",
    "    \n",
    "fig.savefig(\"result_network_size_poa_20nodes_t2xlarge_latency_boxplot.svg\", format=\"svg\")"
   ]
  },
  {
   "cell_type": "code",
   "execution_count": 9,
   "metadata": {},
   "outputs": [
    {
     "data": {
      "image/png": "[encoded data removed]",
      "text/plain": [
       "<Figure size 432x288 with 1 Axes>"
      ]
     },
     "metadata": {
      "needs_background": "light"
     },
     "output_type": "display_data"
    }
   ],
   "source": [
    "fig = plt.figure()\n",
    "ax1 = fig.add_subplot(111)\n",
    "\n",
    "N = len(means_tps)\n",
    "ind = np.arange(N) # the x locations for the groups\n",
    "\n",
    "rects1 = ax1.bar(ind, means_latency, alpha=0.75, color=color_latency)\n",
    "ax1.set_title(title_latency)\n",
    "ax1.set_xlabel(xlabel)\n",
    "ax1.set_ylabel(ylabel_latency_average)\n",
    "\n",
    "ax1.set_xticks(ind)\n",
    "ax1.set_xticklabels(objects)\n",
    "\n",
    "autolabel_barchart(rects1,ax1)\n",
    "fig.tight_layout()\n",
    "#fig.savefig(\"result_network_size_poa_latency_barchart.svg\", format=\"svg\")\n",
    "plt.show()"
   ]
  },
  {
   "cell_type": "markdown",
   "metadata": {},
   "source": [
    "## Throughput and Latency Combined"
   ]
  },
  {
   "cell_type": "code",
   "execution_count": 10,
   "metadata": {},
   "outputs": [
    {
     "data": {
      "image/png": "[encoded data removed]",
      "text/plain": [
       "<Figure size 432x288 with 2 Axes>"
      ]
     },
     "metadata": {
      "needs_background": "light"
     },
     "output_type": "display_data"
    }
   ],
   "source": [
    "fig = plt.figure()\n",
    "ax1 = fig.add_subplot(111)\n",
    "\n",
    "N = len(means_tps)\n",
    "ind = np.arange(N) # the x locations for the groups\n",
    "width = 0.35 # the width of the bars\n",
    "\n",
    "## the bars\n",
    "rects1 = ax1.bar(ind, means_tps, width, color=color_tps,alpha=0.75, label=\"Throughput\")\n",
    "ax1.set_ylabel(ylabel_tps_average)\n",
    "ax1.set_xlabel(xlabel)\n",
    "\n",
    "ax2 = ax1.twinx()\n",
    "rects2 = ax2.bar(ind+width, means_latency, width,color=color_latency,alpha=0.75, label=\"Latency\")\n",
    "ax2.set_ylabel(ylabel_latency_average)\n",
    "\n",
    "# axes and labels\n",
    "#ax1.set_xlim(-width,len(ind)+width)\n",
    "ax1.set_title(\"Throughput and Latency against Network Size \\n(PoA, period 15s, gasLimit * 1, t2.xlarge, n=\" + str(25) + \")\")\n",
    "ax1.set_xticks(ind + width / 2)\n",
    "ax1.set_xticklabels(objects)\n",
    "\n",
    "## add a legend\n",
    "ax1.legend(loc='upper center', bbox_to_anchor=(0.3, -0.2),\n",
    "          ncol=3, fancybox=True, shadow=True)\n",
    "\n",
    "ax2.legend(loc='upper center', bbox_to_anchor=(0.7, -0.2),\n",
    "          ncol=3, fancybox=True, shadow=True)\n",
    "\n",
    "autolabel_barchart(rects1,ax1)\n",
    "autolabel_barchart(rects2,ax2)\n",
    "\n",
    "fig.tight_layout()\n",
    "ax1.figure.savefig(\"result_network_size_poa_20nodes_t2xlarge_combined_barchart.svg\", format=\"svg\",bbox_inches='tight')\n",
    "plt.show()"
   ]
  }
 ],
 "metadata": {
  "kernelspec": {
   "display_name": "Python 3",
   "language": "python",
   "name": "python3"
  },
  "language_info": {
   "codemirror_mode": {
    "name": "ipython",
    "version": 3
   },
   "file_extension": ".py",
   "mimetype": "text/x-python",
   "name": "python",
   "nbconvert_exporter": "python",
   "pygments_lexer": "ipython3",
   "version": "3.7.0"
  }
 },
 "nbformat": 4,
 "nbformat_minor": 2
}
