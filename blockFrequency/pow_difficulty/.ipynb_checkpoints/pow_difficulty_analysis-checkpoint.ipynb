{
 "cells": [
  {
   "cell_type": "markdown",
   "metadata": {},
   "source": [
    "# Helper Methods"
   ]
  },
  {
   "cell_type": "code",
   "execution_count": 1,
   "metadata": {},
   "outputs": [],
   "source": [
    "import numpy as np\n",
    "\n",
    "# outlier removal method: IQR\n",
    "# returns list without outliers\n",
    "# http://colingorrie.github.io/outlier-detection.html\n",
    "# https://machinelearningmastery.com/how-to-use-statistics-to-identify-outliers-in-data/\n",
    "def remove_outliers_iqr(data):\n",
    "    quartile_1, quartile_3 = np.percentile(data, [25, 75])\n",
    "    iqr = quartile_3 - quartile_1\n",
    "    cut_off = (iqr * 1.5)\n",
    "    lower_bound = quartile_1 - cut_off\n",
    "    upper_bound = quartile_3 + cut_off\n",
    "    # identify outliers\n",
    "    outliers = [x for x in data if x < lower_bound or x > upper_bound]\n",
    "    print('Identified outliers: %d' % len(outliers))\n",
    "    # remove outliers\n",
    "    outliers_removed = [x for x in data if x >= lower_bound and x <= upper_bound]\n",
    "    print('Non-outlier observations: %d' % len(outliers_removed))\n",
    "    return outliers_removed\n",
    "\n",
    "# annotates plt with y values\n",
    "def plot_annotate(plt,xvalues,yvalues):\n",
    "    for i,j in zip(xvalues, yvalues):\n",
    "        plt.annotate(str(np.round(j,1)),xy=(i-0.15,j))\n",
    "    \n",
    "def calculateScalabilityInPercent(x,y):\n",
    "    return str(round(abs(x-y)/x * 100,2))"
   ]
  },
  {
   "cell_type": "markdown",
   "metadata": {},
   "source": [
    "# PyMongo Query\n",
    "\n",
    "db = \"test\"\n",
    "collection = \"benchmarklogs\""
   ]
  },
  {
   "cell_type": "code",
   "execution_count": 2,
   "metadata": {},
   "outputs": [],
   "source": [
    "import pymongo \n",
    "from pymongo import MongoClient\n",
    "client = MongoClient()\n",
    "\n",
    "db = client['test']\n",
    "collection = db['benchmarklogs']"
   ]
  },
  {
   "cell_type": "markdown",
   "metadata": {},
   "source": [
    "# PyMongo Query ->Pandas DataFrame"
   ]
  },
  {
   "cell_type": "code",
   "execution_count": 3,
   "metadata": {},
   "outputs": [
    {
     "name": "stdout",
     "output_type": "stream",
     "text": [
      "Number of rows:50\n"
     ]
    }
   ],
   "source": [
    "import pandas as pd\n",
    "\n",
    "query = {\"$and\":[ {\"$or\":[ {\"usedGenesisJson\":\"genesis_pow_default.json\"}]}, \n",
    "        {\"maxTransactions\": 1000}, {\"instanceType\":'c5.xlarge'}, {\"nodes\":5}, {\"scenario\":\"account\"}]}\n",
    "\n",
    "# query = {}\n",
    "\n",
    "# Make a query to the specific DB and Collection\n",
    "cursor = collection.find(query)\n",
    "\n",
    "cursor.sort([('benchmarkID', pymongo.ASCENDING)])\n",
    "\n",
    "# Expand the cursor and construct the DataFrame\n",
    "df = pd.DataFrame(list(cursor))\n",
    "\n",
    "#display(df.head(200))\n",
    "\n",
    "sample_size = len(df.index)\n",
    "print(\"Number of rows:\" + str(sample_size))"
   ]
  },
  {
   "cell_type": "markdown",
   "metadata": {},
   "source": [
    "# Pandas DataFrame -> Plot\n",
    "## Throughput"
   ]
  },
  {
   "cell_type": "code",
   "execution_count": 4,
   "metadata": {},
   "outputs": [
    {
     "name": "stdout",
     "output_type": "stream",
     "text": [
      "Identified outliers: 0\n",
      "Non-outlier observations: 50\n",
      "Identified outliers: 3\n",
      "Non-outlier observations: 47\n",
      "    benchmarkID  txPerSecond  difficulty  runtime\n",
      "0          1305   122.204570      508265    8.183\n",
      "1          1306    56.628348      514995   17.659\n",
      "2          1307    67.249496      517762   14.870\n",
      "3          1308    69.463740      523595   14.396\n",
      "4          1309    92.199889      527179   10.846\n",
      "5          1310    50.195763      535723   19.922\n",
      "6          1311    66.764588      541494   14.978\n",
      "7          1312    82.169269      545732   12.170\n",
      "8          1313    89.134504      549467   11.219\n",
      "9          1314   103.723680      553766    9.641\n",
      "10         1315    58.448770      559461   17.109\n",
      "11         1316    83.703022      565214   11.947\n",
      "12         1317    94.867660      570749   10.541\n",
      "13         1318    65.746220      576619   15.210\n",
      "14         1319    65.763514      581132   15.206\n",
      "15         1320    85.019554      586251   11.762\n",
      "16         1321    97.314130      591702   10.276\n",
      "17         1322    71.296164      598956   14.026\n",
      "18         1323    77.833126      603939   12.848\n",
      "19         1324    67.824200      608964   14.744\n",
      "20         1325   103.917697      613431    9.623\n",
      "21         1326    58.445354      620645   17.110\n",
      "22         1327    71.535875      625198   13.979\n",
      "23         1328    22.659295      643751   44.132\n",
      "24         1329    91.416034      648791   10.939\n",
      "25         1330    68.582402      654188   14.581\n",
      "26         1331    68.292017      660274   14.643\n",
      "27         1332    70.621469      665767   14.160\n",
      "28         1333    89.653936      669346   11.154\n",
      "29         1334    68.956006      676231   14.502\n",
      "30         1335    64.143682      683188   15.590\n",
      "31         1336    66.956813      690217   14.935\n",
      "32         1337    80.482897      695622   12.425\n",
      "33         1338    37.472832      707586   26.686\n",
      "34         1339    17.314518      731428   57.755\n",
      "35         1340    75.335242      735003   13.274\n",
      "36         1341    67.290223      742565   14.861\n",
      "37         1342    57.816836      748014   17.296\n",
      "38         1343    73.094072      754238   13.681\n",
      "39         1344    69.954530      759403   14.295\n",
      "40         1345    74.305246      764230   13.458\n",
      "41         1346    59.389476      770213   16.838\n",
      "42         1347    60.823551      776244   16.441\n",
      "43         1348    53.324801      782322   18.753\n",
      "44         1349    69.905627      788832   14.305\n",
      "45         1350    63.905930      795783   15.648\n",
      "46         1351    66.361404      803188   15.069\n",
      "47         1352    71.331764      808689   14.019\n",
      "48         1353    60.288177      814228   16.587\n",
      "49         1354    59.876654      821003   16.701\n",
      "Slope is:6254.76\n",
      "Slope in percent is :1.230610016428438\n"
     ]
    }
   ],
   "source": [
    "import matplotlib.pyplot as plt\n",
    "\n",
    "data = df[['benchmarkID','txPerSecond','difficulty',\"runtime\"]]\n",
    "\n",
    "#data = pd.Series(remove_outliers_iqr(data))\n",
    "\n",
    "data_difficulty = pd.Series(remove_outliers_iqr(data[\"difficulty\"]))\n",
    "data_tps = pd.Series(remove_outliers_iqr(data[\"txPerSecond\"]))\n",
    "\n",
    "title = \"Difficulty and Throughput against Time\"\n",
    "xlabel = \"Time\"\n",
    "ylabel = \"Difficulty\"\n",
    "\n",
    "time=np.arange(1,sample_size+1)\n",
    "\n",
    "print(data)\n",
    "\n",
    "lowest_difficulty = data_difficulty[0]\n",
    "highest_difficulty = data_difficulty[sample_size-1]\n",
    "#print(lowest_difficulty)\n",
    "#print(highest_difficulty)\n",
    "\n",
    "#delta y / delta x\n",
    "slope_manual = (highest_difficulty - lowest_difficulty) / (sample_size)\n",
    "print(\"Slope is:\" + str(slope_manual))\n",
    "\n",
    "slope_in_percent = slope_manual/lowest_difficulty\n",
    "print(\"Slope in percent is :\" + str(slope_in_percent * 100))"
   ]
  },
  {
   "cell_type": "code",
   "execution_count": 18,
   "metadata": {},
   "outputs": [
    {
     "name": "stdout",
     "output_type": "stream",
     "text": [
      "Median Difficulty: 651489.5\n",
      "Lowest Difficulty: 508265\n",
      "Highest Difficulty: 821003\n",
      "Median Runtime: 14.5415\n",
      "\n",
      "=====Calculation with Increase per Block=====\n",
      "\n",
      "Time needed for all benchmarks 727.0749999999999\n",
      "Blocks needed for all benchmarks 342.4657534246575\n",
      "Approximate difficulty increase in percent: 17.123287671232877\n",
      "\n",
      "=====Difference between first and median Difficulty=====\n",
      "\n",
      "28.18\n",
      "\n",
      "=====Difference between first and last Difficulty=====\n",
      "\n",
      "61.53\n"
     ]
    }
   ],
   "source": [
    "median_difficulty = data[\"difficulty\"].median()\n",
    "print(\"Median Difficulty: \" + str(median_difficulty))\n",
    "print(\"Lowest Difficulty: \" + str(lowest_difficulty))\n",
    "print(\"Highest Difficulty: \" + str(highest_difficulty))\n",
    "print(\"Median Runtime: \" + str(data[\"runtime\"].median()))\n",
    "\n",
    "print(\"\\n=====Calculation with Increase per Block=====\\n\")\n",
    "time_needed_whole_benchmark = (data[\"runtime\"].median()*sample_size)\n",
    "print(\"Time needed for all benchmarks \" + str(time_needed_whole_benchmark))\n",
    "blocks_needed=1000/146\n",
    "blocks_needed_whole_benchmark=blocks_needed*sample_size\n",
    "print(\"Blocks needed for all benchmarks \" + str(blocks_needed_whole_benchmark))\n",
    "print(\"Approximate difficulty increase in percent: \" + str(blocks_needed_whole_benchmark*0.05))\n",
    "\n",
    "print(\"\\n=====Difference between first and median Difficulty=====\\n\")\n",
    "print(calculateScalabilityInPercent(lowest_difficulty,median_difficulty))\n",
    "\n",
    "print(\"\\n=====Difference between first and last Difficulty=====\\n\")\n",
    "print(calculateScalabilityInPercent(lowest_difficulty,highest_difficulty))"
   ]
  },
  {
   "cell_type": "code",
   "execution_count": 6,
   "metadata": {},
   "outputs": [
    {
     "data": {
      "text/html": [
       "<div>\n",
       "<style scoped>\n",
       "    .dataframe tbody tr th:only-of-type {\n",
       "        vertical-align: middle;\n",
       "    }\n",
       "\n",
       "    .dataframe tbody tr th {\n",
       "        vertical-align: top;\n",
       "    }\n",
       "\n",
       "    .dataframe thead th {\n",
       "        text-align: right;\n",
       "    }\n",
       "</style>\n",
       "<table border=\"1\" class=\"dataframe\">\n",
       "  <thead>\n",
       "    <tr style=\"text-align: right;\">\n",
       "      <th></th>\n",
       "      <th>benchmarkID</th>\n",
       "      <th>txPerSecond</th>\n",
       "      <th>difficulty</th>\n",
       "      <th>runtime</th>\n",
       "    </tr>\n",
       "  </thead>\n",
       "  <tbody>\n",
       "    <tr>\n",
       "      <th>benchmarkID</th>\n",
       "      <td>1.000000</td>\n",
       "      <td>-0.353469</td>\n",
       "      <td>0.996587</td>\n",
       "      <td>0.184233</td>\n",
       "    </tr>\n",
       "    <tr>\n",
       "      <th>txPerSecond</th>\n",
       "      <td>-0.353469</td>\n",
       "      <td>1.000000</td>\n",
       "      <td>-0.364807</td>\n",
       "      <td>-0.811501</td>\n",
       "    </tr>\n",
       "    <tr>\n",
       "      <th>difficulty</th>\n",
       "      <td>0.996587</td>\n",
       "      <td>-0.364807</td>\n",
       "      <td>1.000000</td>\n",
       "      <td>0.199158</td>\n",
       "    </tr>\n",
       "    <tr>\n",
       "      <th>runtime</th>\n",
       "      <td>0.184233</td>\n",
       "      <td>-0.811501</td>\n",
       "      <td>0.199158</td>\n",
       "      <td>1.000000</td>\n",
       "    </tr>\n",
       "  </tbody>\n",
       "</table>\n",
       "</div>"
      ],
      "text/plain": [
       "             benchmarkID  txPerSecond  difficulty   runtime\n",
       "benchmarkID     1.000000    -0.353469    0.996587  0.184233\n",
       "txPerSecond    -0.353469     1.000000   -0.364807 -0.811501\n",
       "difficulty      0.996587    -0.364807    1.000000  0.199158\n",
       "runtime         0.184233    -0.811501    0.199158  1.000000"
      ]
     },
     "metadata": {},
     "output_type": "display_data"
    },
    {
     "name": "stdout",
     "output_type": "stream",
     "text": [
      "slope: -0.4484060268764956\n",
      "intercept: 82.05444505515737\n"
     ]
    },
    {
     "data": {
      "text/plain": [
       "[<matplotlib.lines.Line2D at 0x7f3a5d248208>]"
      ]
     },
     "execution_count": 6,
     "metadata": {},
     "output_type": "execute_result"
    },
    {
     "data": {
      "image/png": "[encoded data removed]",
      "text/plain": [
       "<Figure size 432x288 with 1 Axes>"
      ]
     },
     "metadata": {
      "needs_background": "light"
     },
     "output_type": "display_data"
    }
   ],
   "source": [
    "display(data.corr())\n",
    "\n",
    "from scipy import stats\n",
    "\n",
    "xi = time\n",
    "y = data[\"txPerSecond\"]\n",
    "\n",
    "# Generated linear fit\n",
    "slope, intercept, r_value, p_value, std_err = stats.linregress(xi,y)\n",
    "line = slope*xi+intercept\n",
    "\n",
    "print(\"slope: \" + str(slope))\n",
    "print(\"intercept: \" + str(intercept))\n",
    "plt.plot(line)"
   ]
  },
  {
   "cell_type": "code",
   "execution_count": 17,
   "metadata": {},
   "outputs": [
    {
     "data": {
      "image/png": "[encoded data removed]",
      "text/plain": [
       "<Figure size 432x288 with 2 Axes>"
      ]
     },
     "metadata": {
      "needs_background": "light"
     },
     "output_type": "display_data"
    }
   ],
   "source": [
    "color_tps=\"#1f77b4\"\n",
    "\n",
    "fig, ax1 = plt.subplots()\n",
    "#fig, ax1 = plt.subplots(figsize=(8, 6))\n",
    "\n",
    "ax1.set_title(\"Throughput and Difficulty against Measurement-ID \\n (PoW, difficulty * 1, n=\" + str(sample_size) + \")\")\n",
    "ax1.set_xlabel(\"Measurement ID\")\n",
    "\n",
    "ax1.plot(time, data[\"txPerSecond\"], marker='o', color=color_tps, label=\"Throughput\")\n",
    "ax1.set_ylabel(\"Average Transactions Per Second (TPS)\")\n",
    "#ax1.tick_params(xlabel)\n",
    "#plot_annotate(ax1,xvalues, means_tps)\n",
    "\n",
    "ax1.plot(time,line ,color=color_tps, label=\"Throughput Regression\",linewidth=2.0)\n",
    "\n",
    "ax2 = ax1.twinx()\n",
    "ax2.plot(time, data[\"difficulty\"], marker='o', color=\"#7f7f7f\",label=\"Difficulty\")\n",
    "ax2.set_ylabel(\"Block Difficulty\")\n",
    "#plot_annotate(ax2,xvalues, means_latency)\n",
    "\n",
    "ax1.legend(loc='upper center', bbox_to_anchor=(0.35, -0.2),\n",
    "          ncol=3, fancybox=True, shadow=True)\n",
    "\n",
    "ax2.legend(loc='upper center', bbox_to_anchor=(1.0, -0.2),\n",
    "          ncol=3, fancybox=True, shadow=True)\n",
    "\n",
    "fig.tight_layout()\n",
    "fig.savefig(\"result_difficulty_analysis_combined.svg\", format=\"svg\")\n",
    "plt.show()"
   ]
  },
  {
   "cell_type": "markdown",
   "metadata": {},
   "source": [
    "# Data Measured by Hand via the Geth JavaScript Console\n",
    "## eth.getBlock(x)\n",
    "## eth.hashrate"
   ]
  },
  {
   "cell_type": "markdown",
   "metadata": {},
   "source": [
    "### 5 Nodes Network c5.xlarge"
   ]
  },
  {
   "cell_type": "code",
   "execution_count": 8,
   "metadata": {},
   "outputs": [
    {
     "name": "stdout",
     "output_type": "stream",
     "text": [
      "Factor 025 Average Block Time with 200 Blocks: 1.0\n",
      "Factor 025 Difficulty Increase in Percent per Block with 200 Blocks: 0.09073437895981752\n",
      "Factor 1 Average Block Time with 200 Blocks: 1.045\n",
      "Factor 1 Difficulty Increase in Percent per Block with 200 Blocks: 0.07168421822299632\n",
      "Factor 4 Average Block Time with 200 Blocks: 2.545\n",
      "Factor 4 Difficulty Increase in Percent per Block with 200 Blocks: 0.05448844401304713\n"
     ]
    }
   ],
   "source": [
    "#data measured by hand on 5 nodes c5.xlarge:\n",
    "\n",
    "#difficulty * 0.25\n",
    "factor_025_hashrate=95300\n",
    "#block100:\n",
    "factor_025_difficulty_block_100=142052\n",
    "factor_025_timestamp_block_100=1544191805\n",
    "#block200:\n",
    "factor_025_difficulty_block_200=154326\n",
    "factor_025_timestamp_block_200=1544191905\n",
    "#block300:\n",
    "factor_025_difficulty_block_300=167830\n",
    "factor_025_timestamp_block_300=1544192005\n",
    "\n",
    "factor_025_averageBlockTime=(factor_025_timestamp_block_300-factor_025_timestamp_block_100)/200\n",
    "print(\"Factor 025 Average Block Time with 200 Blocks: \" + str(factor_025_averageBlockTime))\n",
    "factor_025_difficulty_increase=(((factor_025_difficulty_block_300-factor_025_difficulty_block_100)/200)/factor_025_difficulty_block_100)*100\n",
    "print(\"Factor 025 Difficulty Increase in Percent per Block with 200 Blocks: \" + str(factor_025_difficulty_increase))\n",
    "\n",
    "#default difficulty\n",
    "factor_1_hashrate=142172\n",
    "#block100:\n",
    "factor_1_difficulty_block_100=533381\n",
    "factor_1_timestamp_block_100=1544191440\n",
    "#block200:\n",
    "factor_1_difficulty_block_200=569915\n",
    "factor_1_timestamp_block_200=1544191546\n",
    "#block300:\n",
    "factor_1_difficulty_block_300=609851\n",
    "factor_1_timestamp_block_300=1544191649\n",
    "\n",
    "factor_1_averageBlockTime=(factor_1_timestamp_block_300-factor_1_timestamp_block_100)/200\n",
    "print(\"Factor 1 Average Block Time with 200 Blocks: \" + str(factor_1_averageBlockTime))\n",
    "factor_1_difficulty_increase=(((factor_1_difficulty_block_300-factor_1_difficulty_block_100)/200)/factor_1_difficulty_block_100)*100\n",
    "print(\"Factor 1 Difficulty Increase in Percent per Block with 200 Blocks: \" + str(factor_1_difficulty_increase))\n",
    "\n",
    "#difficulty * 4\n",
    "factor_4_hashrate=202086\n",
    "#block100:\n",
    "factor_4_difficulty_block_100=2103758\n",
    "factor_4_timestamp_block_100=1544192344\n",
    "#block200:\n",
    "factor_4_difficulty_block_200=2212183\n",
    "factor_4_timestamp_block_200=1544192606\n",
    "#block300:\n",
    "factor_4_difficulty_block_300=2333019\n",
    "factor_4_timestamp_block_300=1544192853\n",
    "\n",
    "factor_4_averageBlockTime=(factor_4_timestamp_block_300-factor_4_timestamp_block_100)/200\n",
    "print(\"Factor 4 Average Block Time with 200 Blocks: \" + str(factor_4_averageBlockTime))\n",
    "factor_4_difficulty_increase=(((factor_4_difficulty_block_300-factor_4_difficulty_block_100)/200)/factor_4_difficulty_block_100)*100\n",
    "print(\"Factor 4 Difficulty Increase in Percent per Block with 200 Blocks: \" + str(factor_4_difficulty_increase))\n"
   ]
  },
  {
   "cell_type": "markdown",
   "metadata": {},
   "source": [
    "### 1 Nodes Network c5.xlarge"
   ]
  },
  {
   "cell_type": "code",
   "execution_count": 9,
   "metadata": {},
   "outputs": [
    {
     "name": "stdout",
     "output_type": "stream",
     "text": [
      "Factor 025 Average Block Time with 200 Blocks: 1.115\n",
      "Factor 025 Difficulty Increase in Percent per Block with 200 Blocks: 0.05088936399202991\n",
      "Factor 1 Average Block Time with 150 Blocks: 2.12\n",
      "Factor 1 Difficulty Increase in Percent per Block with 150 Blocks: 0.05019556246479843\n",
      "Factor 4 Average Block Time with 50 Blocks: 10.68\n",
      "Factor 4 Difficulty Increase in Percent per Block with 50 Blocks: 0.01173681750060503\n"
     ]
    }
   ],
   "source": [
    "#data measured by hand on 1 node c5.xlarge:\n",
    "\n",
    "#difficulty * 0.25\n",
    "factor_025_hashrate=97945\n",
    "#block100:\n",
    "factor_025_difficulty_block_100=137514\n",
    "factor_025_timestamp_block_100=1544193619\n",
    "#block200:\n",
    "factor_025_difficulty_block_200=144344\n",
    "factor_025_timestamp_block_200=1544193729\n",
    "#block300:\n",
    "factor_025_difficulty_block_300=151510\n",
    "factor_025_timestamp_block_300=1544193842\n",
    "\n",
    "factor_025_averageBlockTime=(factor_025_timestamp_block_300-factor_025_timestamp_block_100)/200\n",
    "print(\"Factor 025 Average Block Time with 200 Blocks: \" + str(factor_025_averageBlockTime))\n",
    "factor_025_difficulty_increase=(((factor_025_difficulty_block_300-factor_025_difficulty_block_100)/200)/factor_025_difficulty_block_100)*100\n",
    "print(\"Factor 025 Difficulty Increase in Percent per Block with 200 Blocks: \" + str(factor_025_difficulty_increase))\n",
    "\n",
    "\n",
    "#default difficulty\n",
    "factor_1_hashrate=193580\n",
    "#block50:\n",
    "factor_1_difficulty_block_50=510749\n",
    "factor_1_timestamp_block_50=1544194044\n",
    "#block100:\n",
    "factor_1_difficulty_block_100=523088\n",
    "factor_1_timestamp_block_100=1544194166\n",
    "#block150:\n",
    "factor_1_difficulty_block_150=535988\n",
    "factor_1_timestamp_block_150=1544194273\n",
    "#block200:\n",
    "factor_1_difficulty_block_200=549205\n",
    "factor_1_timestamp_block_200=1544194362\n",
    "\n",
    "factor_1_averageBlockTime=(factor_1_timestamp_block_200-factor_1_timestamp_block_50)/150\n",
    "print(\"Factor 1 Average Block Time with 150 Blocks: \" + str(factor_1_averageBlockTime))\n",
    "factor_1_difficulty_increase=(((factor_1_difficulty_block_200-factor_1_difficulty_block_50)/150)/factor_1_difficulty_block_50)*100\n",
    "print(\"Factor 1 Difficulty Increase in Percent per Block with 150 Blocks: \" + str(factor_1_difficulty_increase))\n",
    "\n",
    "#difficulty * 4\n",
    "factor_4_hashrate=212547\n",
    "#block10:\n",
    "factor_4_difficulty_block_10=1995771\n",
    "factor_4_timestamp_block_10=1544194516\n",
    "#block60:\n",
    "factor_4_difficulty_block_60=2007483\n",
    "factor_4_timestamp_block_60=1544195050\n",
    "\n",
    "factor_4_averageBlockTime=(factor_4_timestamp_block_60-factor_4_timestamp_block_10)/50\n",
    "print(\"Factor 4 Average Block Time with 50 Blocks: \" + str(factor_4_averageBlockTime))\n",
    "factor_4_difficulty_increase=(((factor_4_difficulty_block_60-factor_4_difficulty_block_10)/50)/factor_4_difficulty_block_10)*100\n",
    "print(\"Factor 4 Difficulty Increase in Percent per Block with 50 Blocks: \" + str(factor_4_difficulty_increase))"
   ]
  }
 ],
 "metadata": {
  "kernelspec": {
   "display_name": "Python 3",
   "language": "python",
   "name": "python3"
  },
  "language_info": {
   "codemirror_mode": {
    "name": "ipython",
    "version": 3
   },
   "file_extension": ".py",
   "mimetype": "text/x-python",
   "name": "python",
   "nbconvert_exporter": "python",
   "pygments_lexer": "ipython3",
   "version": "3.7.0"
  }
 },
 "nbformat": 4,
 "nbformat_minor": 2
}
